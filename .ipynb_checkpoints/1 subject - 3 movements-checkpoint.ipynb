{
 "cells": [
  {
   "cell_type": "markdown",
   "id": "0b79cc1b",
   "metadata": {},
   "source": [
    "## Training a model to classify 3 movements only for one subject\n"
   ]
  },
  {
   "cell_type": "markdown",
   "id": "736bbf1c",
   "metadata": {},
   "source": [
    "##### Dealing with data"
   ]
  },
  {
   "cell_type": "code",
   "execution_count": 1,
   "id": "7624c6c7",
   "metadata": {},
   "outputs": [],
   "source": [
    "%matplotlib inline\n",
    "import numpy as np\n",
    "import pandas as pd\n",
    "import matplotlib.pyplot as plt\n",
    "from scipy.io import loadmat"
   ]
  },
  {
   "cell_type": "code",
   "execution_count": 2,
   "id": "b5552161",
   "metadata": {},
   "outputs": [],
   "source": [
    "def load_data_DB1(subject,exercise):\n",
    "    data = loadmat(f'../Dataset/DB1/s{subject}/S{subject}_A1_E{exercise}.mat')\n",
    "    return data"
   ]
  },
  {
   "cell_type": "code",
   "execution_count": 3,
   "id": "5bb3ca3a",
   "metadata": {},
   "outputs": [],
   "source": [
    "def get_stimulus_start_indexes(data,movement):\n",
    "    start_indexes=[]\n",
    "    for idx,move in enumerate(data['stimulus']):\n",
    "        if move[0] == movement and data['stimulus'][idx-1][0] == 0:\n",
    "            start_indexes.append(idx)\n",
    "        if len(start_indexes) == 10:\n",
    "            break\n",
    "    return start_indexes"
   ]
  },
  {
   "cell_type": "code",
   "execution_count": 4,
   "id": "d05dd2d5",
   "metadata": {},
   "outputs": [],
   "source": [
    "def get_restimulus_start_indexes(data,movement):\n",
    "    start_indexes=[]\n",
    "    for idx,move in enumerate(data['restimulus']):\n",
    "        if move[0] == movement and data['restimulus'][idx-1][0] == 0:\n",
    "            start_indexes.append(idx)\n",
    "        if len(start_indexes) == 10:\n",
    "            break\n",
    "    return start_indexes"
   ]
  },
  {
   "cell_type": "code",
   "execution_count": 5,
   "id": "9808c248",
   "metadata": {},
   "outputs": [],
   "source": [
    "def get_movement_df_stimulus(data,movement):\n",
    "    start_indexes = get_stimulus_start_indexes(data,movement)\n",
    "    df= pd.DataFrame()\n",
    "    for i in start_indexes:\n",
    "        new_row = data['emg'][i:i+500].flatten()\n",
    "        df = df.append(pd.Series(new_row),ignore_index=True)\n",
    "    target_movement = np.full((10,1),movement,dtype=int)\n",
    "    df['target_movement'] = target_movement\n",
    "    return df"
   ]
  },
  {
   "cell_type": "code",
   "execution_count": 6,
   "id": "0f8cab97",
   "metadata": {},
   "outputs": [],
   "source": [
    "def get_movement_df_restimulus(data,movement):\n",
    "    start_indexes = get_restimulus_start_indexes(data,movement)\n",
    "    df= pd.DataFrame()\n",
    "    for i in start_indexes:\n",
    "        new_row = data['emg'][i:i+200].flatten()\n",
    "        df = df.append(pd.Series(new_row),ignore_index=True)\n",
    "    target_movement = np.full((10,1),movement,dtype=int)\n",
    "    df['target_movement'] = target_movement\n",
    "    return df"
   ]
  },
  {
   "cell_type": "markdown",
   "id": "480fb22a",
   "metadata": {},
   "source": [
    "##### Training Models \n"
   ]
  },
  {
   "cell_type": "markdown",
   "id": "c5804b80",
   "metadata": {},
   "source": [
    "###### KNN"
   ]
  },
  {
   "cell_type": "code",
   "execution_count": 7,
   "id": "688aa88f",
   "metadata": {},
   "outputs": [],
   "source": [
    "from sklearn.model_selection import train_test_split\n",
    "from sklearn.neighbors import KNeighborsClassifier\n",
    "from sklearn import metrics\n",
    "def get_avg_10_random_states_knn(test_size,random_states,data):\n",
    "    test_scores = []\n",
    "    training_scores = []\n",
    "    for r in random_states:\n",
    "        X_train, X_test, y_train, y_test = train_test_split(data.loc[:,0:4999], data['target_movement'], test_size=test_size, random_state=r,shuffle=True)\n",
    "        y_train = y_train.to_numpy(dtype='Int64')\n",
    "        y_test = y_test.to_numpy(dtype='Int64')\n",
    "        knn = KNeighborsClassifier(n_neighbors=3)\n",
    "        knn.fit(X_train,y_train)\n",
    "        score = knn.score(X_test,y_test)\n",
    "        test_scores.append(score)\n",
    "        training_scores.append(knn.score(X_train,y_train))\n",
    "    dict = {\n",
    "        \"test_accuracy\":sum(test_scores)/len(test_scores),\n",
    "        \"test_scores\":test_scores,\n",
    "        \"training_accuracy\":sum(training_scores)/len(training_scores)\n",
    "    }\n",
    "    return dict"
   ]
  },
  {
   "cell_type": "markdown",
   "id": "95cdc94d",
   "metadata": {},
   "source": [
    "###### SVM"
   ]
  },
  {
   "cell_type": "code",
   "execution_count": 8,
   "id": "501243e1",
   "metadata": {},
   "outputs": [],
   "source": [
    "from sklearn import svm\n",
    "from sklearn.model_selection import train_test_split\n",
    "from sklearn import metrics\n",
    "def get_avg_10_random_states_svm(test_size,random_states,data):\n",
    "    test_scores = []\n",
    "    training_scores = []\n",
    "    for r in random_states:\n",
    "        X_train, X_test, y_train, y_test = train_test_split(data.loc[:,0:4999], data['target_movement'], test_size=test_size, random_state=r,shuffle=True)\n",
    "        y_train = y_train.to_numpy(dtype='Int64')\n",
    "        y_test = y_test.to_numpy(dtype='Int64')\n",
    "        s = svm.SVC()\n",
    "        s.fit(X_train, y_train)\n",
    "        svmScore = s.score(X_test,y_test)\n",
    "        test_scores.append(svmScore)\n",
    "        training_scores.append(s.score(X_train,y_train))\n",
    "    dict = {\n",
    "        \"test_accuracy\":sum(test_scores)/len(test_scores),\n",
    "        \"test_scores\":test_scores,\n",
    "        \"training_accuracy\":sum(training_scores)/len(training_scores),\n",
    "    }\n",
    "    return dict"
   ]
  },
  {
   "cell_type": "markdown",
   "id": "e6231639",
   "metadata": {},
   "source": [
    "#### Classification using knn and svm"
   ]
  },
  {
   "cell_type": "code",
   "execution_count": 9,
   "id": "b4f792fb",
   "metadata": {},
   "outputs": [],
   "source": [
    "def classify_movements(test_size,random_states,data):\n",
    "    out_knn = get_avg_10_random_states_knn(random_states=random_states,test_size=0.25,data=data)\n",
    "\n",
    "    out_svm = get_avg_10_random_states_svm(random_states=random_states,test_size=0.25,data=data)\n",
    "\n",
    "    fig,(ax1,ax2) = plt.subplots(nrows=1,ncols=2,figsize=(15,5))\n",
    "    \n",
    "    ax1.plot(range(1,11),out_svm[\"test_scores\"])\n",
    "    ax1.set(title='SVM Accuracy',xlabel='Random States',ylabel='Scores');\n",
    "    \n",
    "    #fig,ax = plt.subplots(figsize=(10,10))\n",
    "    ax2.plot(range(1,11),out_knn[\"test_scores\"])\n",
    "    ax2.set(title='KNN Accuracy',xlabel='Random States',ylabel='Scores');\n",
    "\n",
    "    print(\"Avg Accuracy on training set of KNN model: \", out_knn[\"training_accuracy\"])\n",
    "    print(\"Avg Accuracy for test set of KNN model: \", out_knn[\"test_accuracy\"])\n",
    "    print(\"Avg Accuracy on training set of SVM model: \", out_svm[\"training_accuracy\"])\n",
    "    print(\"Avg Accuracy for test set of SVM model: \", out_svm[\"test_accuracy\"])\n",
    "    "
   ]
  },
  {
   "cell_type": "markdown",
   "id": "e7ff8cdb",
   "metadata": {},
   "source": [
    "#### Classification of movements: 6,9,10 in exercise 1 for subject 4"
   ]
  },
  {
   "cell_type": "code",
   "execution_count": 12,
   "id": "0d8b9500",
   "metadata": {},
   "outputs": [],
   "source": [
    "sub4_ex1 = load_data_DB1(subject=4,exercise=1)\n",
    "move_6 = get_movement_df_stimulus(data=sub4_ex1,movement=6)\n",
    "move_9 = get_movement_df_stimulus(data=sub4_ex1,movement=9)\n",
    "move_10 = get_movement_df_stimulus(data=sub4_ex1,movement=10)\n",
    "\n",
    "# Add All moves to one dataframe\n",
    "movements = pd.concat([move_6,move_9,move_10],ignore_index=True)"
   ]
  },
  {
   "cell_type": "code",
   "execution_count": 13,
   "id": "51ea80b4",
   "metadata": {},
   "outputs": [
    {
     "name": "stdout",
     "output_type": "stream",
     "text": [
      "Avg Accuracy on training set of KNN model:  0.959090909090909\n",
      "Avg Accuracy for test set of KNN model:  0.9125\n",
      "Avg Accuracy on training set of SVM model:  0.9681818181818184\n",
      "Avg Accuracy for test set of SVM model:  0.925\n"
     ]
    },
    {
     "data": {
      "image/png": "[encoded data removed]",
      "text/plain": [
       "<Figure size 1080x360 with 2 Axes>"
      ]
     },
     "metadata": {
      "needs_background": "light"
     },
     "output_type": "display_data"
    }
   ],
   "source": [
    "random_states = [0,1,42,101,500,63,84,36,111,99]\n",
    "\n",
    "classify_movements(test_size=0.25,random_states=random_states,data=movements)"
   ]
  },
  {
   "cell_type": "markdown",
   "id": "27251339",
   "metadata": {},
   "source": [
    "#### Classification of movements: 1,2,3 in exercise 2 for subject 4"
   ]
  },
  {
   "cell_type": "code",
   "execution_count": 76,
   "id": "c23c8d39",
   "metadata": {},
   "outputs": [],
   "source": [
    "sub4_ex2 = load_data_DB1(subject=4,exercise=2)\n",
    "move_1 = get_movement_df_stimulus(data=sub4_ex2,movement=1)\n",
    "move_2 = get_movement_df_stimulus(data=sub4_ex2,movement=2)\n",
    "move_3 = get_movement_df_stimulus(data=sub4_ex2,movement=3)\n",
    "\n",
    "# Add All moves to one dataframe\n",
    "movements_ex2 = pd.concat([move_1,move_2,move_3],ignore_index=True)"
   ]
  },
  {
   "cell_type": "code",
   "execution_count": 15,
   "id": "8c8a7e31",
   "metadata": {},
   "outputs": [
    {
     "name": "stdout",
     "output_type": "stream",
     "text": [
      "Avg Accuracy on training set of KNN model:  1.0\n",
      "Avg Accuracy for test set of KNN model:  0.9375\n",
      "Avg Accuracy on training set of SVM model:  1.0\n",
      "Avg Accuracy for test set of SVM model:  0.9625\n"
     ]
    },
    {
     "data": {
      "image/png": "[encoded data removed]",
      "text/plain": [
       "<Figure size 1080x360 with 2 Axes>"
      ]
     },
     "metadata": {
      "needs_background": "light"
     },
     "output_type": "display_data"
    }
   ],
   "source": [
    "random_states = [0,1,42,101,500,63,84,36,111,99]\n",
    "\n",
    "classify_movements(test_size=0.25,random_states=random_states,data=movements_ex2)"
   ]
  },
  {
   "cell_type": "markdown",
   "id": "d0a878df",
   "metadata": {},
   "source": [
    "Try random states 10, 66, 78"
   ]
  },
  {
   "cell_type": "code",
   "execution_count": 77,
   "id": "781cadd5",
   "metadata": {},
   "outputs": [
    {
     "name": "stdout",
     "output_type": "stream",
     "text": [
      "Accuracy of training set: 1.0\n",
      "Accuracy of test set: 0.8333333333333334 \n"
     ]
    }
   ],
   "source": [
    "# Trying knn on stimlus (500 rows)\n",
    "from sklearn.neighbors import KNeighborsClassifier\n",
    "from sklearn.model_selection import train_test_split\n",
    "\n",
    "np.random.seed(66)\n",
    "\n",
    "X = movements_ex2.drop(\"target_movement\",axis=1)\n",
    "y = movements_ex2[\"target_movement\"]\n",
    "\n",
    "X_train, X_test, y_train, y_test = train_test_split(X , y , test_size=0.2, stratify=y)\n",
    "\n",
    "knn = KNeighborsClassifier(n_neighbors=3)\n",
    "knn.fit(X_train, y_train)\n",
    "\n",
    "print(f\"Accuracy of training set: {knn.score(X_train, y_train)}\")\n",
    "print(f\"Accuracy of test set: {knn.score(X_test, y_test)} \")"
   ]
  },
  {
   "cell_type": "code",
   "execution_count": 78,
   "id": "9d248820",
   "metadata": {},
   "outputs": [
    {
     "data": {
      "text/plain": [
       "(array([3, 1, 1, 1, 2, 3]), array([3, 2, 1, 1, 2, 3]))"
      ]
     },
     "execution_count": 78,
     "metadata": {},
     "output_type": "execute_result"
    }
   ],
   "source": [
    "knn.predict(X_test) , np.array(y_test)"
   ]
  },
  {
   "cell_type": "markdown",
   "id": "40f85b29",
   "metadata": {},
   "source": [
    "## Note:\n",
    "* The repetition that is usually classified improperly is the first one in movement 2. It is sometimes classified as movement 1\n",
    "* The repetition that is usually classified improperly is the first one in movement 3. It is sometimes classified as movement 2"
   ]
  },
  {
   "cell_type": "code",
   "execution_count": 79,
   "id": "223fcf30",
   "metadata": {},
   "outputs": [
    {
     "data": {
      "text/html": [
       "<div>\n",
       "<style scoped>\n",
       "    .dataframe tbody tr th:only-of-type {\n",
       "        vertical-align: middle;\n",
       "    }\n",
       "\n",
       "    .dataframe tbody tr th {\n",
       "        vertical-align: top;\n",
       "    }\n",
       "\n",
       "    .dataframe thead th {\n",
       "        text-align: right;\n",
       "    }\n",
       "</style>\n",
       "<table border=\"1\" class=\"dataframe\">\n",
       "  <thead>\n",
       "    <tr style=\"text-align: right;\">\n",
       "      <th></th>\n",
       "      <th>0</th>\n",
       "      <th>1</th>\n",
       "      <th>2</th>\n",
       "      <th>3</th>\n",
       "      <th>4</th>\n",
       "      <th>5</th>\n",
       "      <th>6</th>\n",
       "      <th>7</th>\n",
       "      <th>8</th>\n",
       "      <th>9</th>\n",
       "      <th>...</th>\n",
       "      <th>4990</th>\n",
       "      <th>4991</th>\n",
       "      <th>4992</th>\n",
       "      <th>4993</th>\n",
       "      <th>4994</th>\n",
       "      <th>4995</th>\n",
       "      <th>4996</th>\n",
       "      <th>4997</th>\n",
       "      <th>4998</th>\n",
       "      <th>4999</th>\n",
       "    </tr>\n",
       "  </thead>\n",
       "  <tbody>\n",
       "    <tr>\n",
       "      <th>20</th>\n",
       "      <td>0.0146</td>\n",
       "      <td>0.0024</td>\n",
       "      <td>0.0024</td>\n",
       "      <td>0.0024</td>\n",
       "      <td>0.0024</td>\n",
       "      <td>0.0171</td>\n",
       "      <td>0.1636</td>\n",
       "      <td>0.0757</td>\n",
       "      <td>0.0024</td>\n",
       "      <td>0.0024</td>\n",
       "      <td>...</td>\n",
       "      <td>0.0903</td>\n",
       "      <td>0.0024</td>\n",
       "      <td>0.0024</td>\n",
       "      <td>0.0024</td>\n",
       "      <td>0.0024</td>\n",
       "      <td>0.0220</td>\n",
       "      <td>0.1294</td>\n",
       "      <td>0.1270</td>\n",
       "      <td>0.0024</td>\n",
       "      <td>0.0024</td>\n",
       "    </tr>\n",
       "    <tr>\n",
       "      <th>10</th>\n",
       "      <td>0.0146</td>\n",
       "      <td>0.0024</td>\n",
       "      <td>0.0024</td>\n",
       "      <td>0.0024</td>\n",
       "      <td>0.0024</td>\n",
       "      <td>0.0024</td>\n",
       "      <td>0.0952</td>\n",
       "      <td>0.0659</td>\n",
       "      <td>0.0024</td>\n",
       "      <td>0.0024</td>\n",
       "      <td>...</td>\n",
       "      <td>0.2393</td>\n",
       "      <td>0.0024</td>\n",
       "      <td>0.0293</td>\n",
       "      <td>0.0024</td>\n",
       "      <td>0.0024</td>\n",
       "      <td>0.0269</td>\n",
       "      <td>0.2759</td>\n",
       "      <td>0.1563</td>\n",
       "      <td>0.0146</td>\n",
       "      <td>0.0024</td>\n",
       "    </tr>\n",
       "    <tr>\n",
       "      <th>7</th>\n",
       "      <td>0.0537</td>\n",
       "      <td>0.0024</td>\n",
       "      <td>0.0024</td>\n",
       "      <td>0.0024</td>\n",
       "      <td>0.0049</td>\n",
       "      <td>0.0024</td>\n",
       "      <td>0.1538</td>\n",
       "      <td>0.0659</td>\n",
       "      <td>0.0024</td>\n",
       "      <td>0.0024</td>\n",
       "      <td>...</td>\n",
       "      <td>0.0317</td>\n",
       "      <td>0.0024</td>\n",
       "      <td>0.0024</td>\n",
       "      <td>0.0024</td>\n",
       "      <td>0.0024</td>\n",
       "      <td>0.0122</td>\n",
       "      <td>0.1514</td>\n",
       "      <td>0.0806</td>\n",
       "      <td>0.0024</td>\n",
       "      <td>0.0024</td>\n",
       "    </tr>\n",
       "    <tr>\n",
       "      <th>4</th>\n",
       "      <td>0.0342</td>\n",
       "      <td>0.0024</td>\n",
       "      <td>0.0024</td>\n",
       "      <td>0.0024</td>\n",
       "      <td>0.0024</td>\n",
       "      <td>0.0024</td>\n",
       "      <td>0.0659</td>\n",
       "      <td>0.0537</td>\n",
       "      <td>0.0024</td>\n",
       "      <td>0.0024</td>\n",
       "      <td>...</td>\n",
       "      <td>0.3491</td>\n",
       "      <td>0.0024</td>\n",
       "      <td>0.0024</td>\n",
       "      <td>0.0024</td>\n",
       "      <td>0.0024</td>\n",
       "      <td>0.0098</td>\n",
       "      <td>0.1636</td>\n",
       "      <td>0.1147</td>\n",
       "      <td>0.0024</td>\n",
       "      <td>0.0024</td>\n",
       "    </tr>\n",
       "    <tr>\n",
       "      <th>17</th>\n",
       "      <td>0.0366</td>\n",
       "      <td>0.0024</td>\n",
       "      <td>0.0024</td>\n",
       "      <td>0.0024</td>\n",
       "      <td>0.0024</td>\n",
       "      <td>0.0146</td>\n",
       "      <td>0.0415</td>\n",
       "      <td>0.0537</td>\n",
       "      <td>0.0024</td>\n",
       "      <td>0.0049</td>\n",
       "      <td>...</td>\n",
       "      <td>0.0293</td>\n",
       "      <td>0.0024</td>\n",
       "      <td>0.0024</td>\n",
       "      <td>0.0024</td>\n",
       "      <td>0.0024</td>\n",
       "      <td>0.0146</td>\n",
       "      <td>0.0342</td>\n",
       "      <td>0.0439</td>\n",
       "      <td>0.0024</td>\n",
       "      <td>0.0220</td>\n",
       "    </tr>\n",
       "    <tr>\n",
       "      <th>22</th>\n",
       "      <td>0.0098</td>\n",
       "      <td>0.0024</td>\n",
       "      <td>0.0024</td>\n",
       "      <td>0.0024</td>\n",
       "      <td>0.0024</td>\n",
       "      <td>0.0024</td>\n",
       "      <td>0.0024</td>\n",
       "      <td>0.0195</td>\n",
       "      <td>0.0024</td>\n",
       "      <td>0.0024</td>\n",
       "      <td>...</td>\n",
       "      <td>0.0464</td>\n",
       "      <td>0.0024</td>\n",
       "      <td>0.0024</td>\n",
       "      <td>0.0024</td>\n",
       "      <td>0.0024</td>\n",
       "      <td>0.0244</td>\n",
       "      <td>0.0024</td>\n",
       "      <td>0.0293</td>\n",
       "      <td>0.0024</td>\n",
       "      <td>0.0024</td>\n",
       "    </tr>\n",
       "  </tbody>\n",
       "</table>\n",
       "<p>6 rows × 5000 columns</p>\n",
       "</div>"
      ],
      "text/plain": [
       "      0       1       2       3       4       5       6       7       8     \\\n",
       "20  0.0146  0.0024  0.0024  0.0024  0.0024  0.0171  0.1636  0.0757  0.0024   \n",
       "10  0.0146  0.0024  0.0024  0.0024  0.0024  0.0024  0.0952  0.0659  0.0024   \n",
       "7   0.0537  0.0024  0.0024  0.0024  0.0049  0.0024  0.1538  0.0659  0.0024   \n",
       "4   0.0342  0.0024  0.0024  0.0024  0.0024  0.0024  0.0659  0.0537  0.0024   \n",
       "17  0.0366  0.0024  0.0024  0.0024  0.0024  0.0146  0.0415  0.0537  0.0024   \n",
       "22  0.0098  0.0024  0.0024  0.0024  0.0024  0.0024  0.0024  0.0195  0.0024   \n",
       "\n",
       "      9     ...    4990    4991    4992    4993    4994    4995    4996  \\\n",
       "20  0.0024  ...  0.0903  0.0024  0.0024  0.0024  0.0024  0.0220  0.1294   \n",
       "10  0.0024  ...  0.2393  0.0024  0.0293  0.0024  0.0024  0.0269  0.2759   \n",
       "7   0.0024  ...  0.0317  0.0024  0.0024  0.0024  0.0024  0.0122  0.1514   \n",
       "4   0.0024  ...  0.3491  0.0024  0.0024  0.0024  0.0024  0.0098  0.1636   \n",
       "17  0.0049  ...  0.0293  0.0024  0.0024  0.0024  0.0024  0.0146  0.0342   \n",
       "22  0.0024  ...  0.0464  0.0024  0.0024  0.0024  0.0024  0.0244  0.0024   \n",
       "\n",
       "      4997    4998    4999  \n",
       "20  0.1270  0.0024  0.0024  \n",
       "10  0.1563  0.0146  0.0024  \n",
       "7   0.0806  0.0024  0.0024  \n",
       "4   0.1147  0.0024  0.0024  \n",
       "17  0.0439  0.0024  0.0220  \n",
       "22  0.0293  0.0024  0.0024  \n",
       "\n",
       "[6 rows x 5000 columns]"
      ]
     },
     "execution_count": 79,
     "metadata": {},
     "output_type": "execute_result"
    }
   ],
   "source": [
    "X_test"
   ]
  },
  {
   "cell_type": "code",
   "execution_count": 81,
   "id": "cb1a33aa",
   "metadata": {},
   "outputs": [
    {
     "name": "stdout",
     "output_type": "stream",
     "text": [
      "Accuracy of training set: 1.0\n",
      "Accuracy of test set: 0.8333333333333334 \n"
     ]
    }
   ],
   "source": [
    "# Trying RandomForest on stimulus (500 rows)\n",
    "from sklearn.ensemble import RandomForestClassifier\n",
    "from sklearn.model_selection import train_test_split\n",
    "\n",
    "np.random.seed(66)\n",
    "\n",
    "X = movements_ex2.drop(\"target_movement\",axis=1)\n",
    "y = movements_ex2[\"target_movement\"]\n",
    "\n",
    "X_train, X_test, y_train, y_test = train_test_split(X , y , test_size=0.2, stratify=y)\n",
    "\n",
    "rfc = RandomForestClassifier(n_estimators=100)\n",
    "rfc.fit(X_train, y_train)\n",
    "\n",
    "print(f\"Accuracy of training set: {rfc.score(X_train, y_train)}\")\n",
    "print(f\"Accuracy of test set: {rfc.score(X_test, y_test)} \")"
   ]
  },
  {
   "cell_type": "code",
   "execution_count": 82,
   "id": "69718146",
   "metadata": {},
   "outputs": [
    {
     "data": {
      "text/plain": [
       "(array([2, 2, 1, 1, 2, 3]), array([3, 2, 1, 1, 2, 3]))"
      ]
     },
     "execution_count": 82,
     "metadata": {},
     "output_type": "execute_result"
    }
   ],
   "source": [
    "rfc.predict(X_test) , np.array(y_test)"
   ]
  },
  {
   "cell_type": "code",
   "execution_count": 83,
   "id": "ad230cd5",
   "metadata": {},
   "outputs": [
    {
     "data": {
      "text/html": [
       "<div>\n",
       "<style scoped>\n",
       "    .dataframe tbody tr th:only-of-type {\n",
       "        vertical-align: middle;\n",
       "    }\n",
       "\n",
       "    .dataframe tbody tr th {\n",
       "        vertical-align: top;\n",
       "    }\n",
       "\n",
       "    .dataframe thead th {\n",
       "        text-align: right;\n",
       "    }\n",
       "</style>\n",
       "<table border=\"1\" class=\"dataframe\">\n",
       "  <thead>\n",
       "    <tr style=\"text-align: right;\">\n",
       "      <th></th>\n",
       "      <th>0</th>\n",
       "      <th>1</th>\n",
       "      <th>2</th>\n",
       "      <th>3</th>\n",
       "      <th>4</th>\n",
       "      <th>5</th>\n",
       "      <th>6</th>\n",
       "      <th>7</th>\n",
       "      <th>8</th>\n",
       "      <th>9</th>\n",
       "      <th>...</th>\n",
       "      <th>4990</th>\n",
       "      <th>4991</th>\n",
       "      <th>4992</th>\n",
       "      <th>4993</th>\n",
       "      <th>4994</th>\n",
       "      <th>4995</th>\n",
       "      <th>4996</th>\n",
       "      <th>4997</th>\n",
       "      <th>4998</th>\n",
       "      <th>4999</th>\n",
       "    </tr>\n",
       "  </thead>\n",
       "  <tbody>\n",
       "    <tr>\n",
       "      <th>20</th>\n",
       "      <td>0.0146</td>\n",
       "      <td>0.0024</td>\n",
       "      <td>0.0024</td>\n",
       "      <td>0.0024</td>\n",
       "      <td>0.0024</td>\n",
       "      <td>0.0171</td>\n",
       "      <td>0.1636</td>\n",
       "      <td>0.0757</td>\n",
       "      <td>0.0024</td>\n",
       "      <td>0.0024</td>\n",
       "      <td>...</td>\n",
       "      <td>0.0903</td>\n",
       "      <td>0.0024</td>\n",
       "      <td>0.0024</td>\n",
       "      <td>0.0024</td>\n",
       "      <td>0.0024</td>\n",
       "      <td>0.0220</td>\n",
       "      <td>0.1294</td>\n",
       "      <td>0.1270</td>\n",
       "      <td>0.0024</td>\n",
       "      <td>0.0024</td>\n",
       "    </tr>\n",
       "    <tr>\n",
       "      <th>10</th>\n",
       "      <td>0.0146</td>\n",
       "      <td>0.0024</td>\n",
       "      <td>0.0024</td>\n",
       "      <td>0.0024</td>\n",
       "      <td>0.0024</td>\n",
       "      <td>0.0024</td>\n",
       "      <td>0.0952</td>\n",
       "      <td>0.0659</td>\n",
       "      <td>0.0024</td>\n",
       "      <td>0.0024</td>\n",
       "      <td>...</td>\n",
       "      <td>0.2393</td>\n",
       "      <td>0.0024</td>\n",
       "      <td>0.0293</td>\n",
       "      <td>0.0024</td>\n",
       "      <td>0.0024</td>\n",
       "      <td>0.0269</td>\n",
       "      <td>0.2759</td>\n",
       "      <td>0.1563</td>\n",
       "      <td>0.0146</td>\n",
       "      <td>0.0024</td>\n",
       "    </tr>\n",
       "    <tr>\n",
       "      <th>7</th>\n",
       "      <td>0.0537</td>\n",
       "      <td>0.0024</td>\n",
       "      <td>0.0024</td>\n",
       "      <td>0.0024</td>\n",
       "      <td>0.0049</td>\n",
       "      <td>0.0024</td>\n",
       "      <td>0.1538</td>\n",
       "      <td>0.0659</td>\n",
       "      <td>0.0024</td>\n",
       "      <td>0.0024</td>\n",
       "      <td>...</td>\n",
       "      <td>0.0317</td>\n",
       "      <td>0.0024</td>\n",
       "      <td>0.0024</td>\n",
       "      <td>0.0024</td>\n",
       "      <td>0.0024</td>\n",
       "      <td>0.0122</td>\n",
       "      <td>0.1514</td>\n",
       "      <td>0.0806</td>\n",
       "      <td>0.0024</td>\n",
       "      <td>0.0024</td>\n",
       "    </tr>\n",
       "    <tr>\n",
       "      <th>4</th>\n",
       "      <td>0.0342</td>\n",
       "      <td>0.0024</td>\n",
       "      <td>0.0024</td>\n",
       "      <td>0.0024</td>\n",
       "      <td>0.0024</td>\n",
       "      <td>0.0024</td>\n",
       "      <td>0.0659</td>\n",
       "      <td>0.0537</td>\n",
       "      <td>0.0024</td>\n",
       "      <td>0.0024</td>\n",
       "      <td>...</td>\n",
       "      <td>0.3491</td>\n",
       "      <td>0.0024</td>\n",
       "      <td>0.0024</td>\n",
       "      <td>0.0024</td>\n",
       "      <td>0.0024</td>\n",
       "      <td>0.0098</td>\n",
       "      <td>0.1636</td>\n",
       "      <td>0.1147</td>\n",
       "      <td>0.0024</td>\n",
       "      <td>0.0024</td>\n",
       "    </tr>\n",
       "    <tr>\n",
       "      <th>17</th>\n",
       "      <td>0.0366</td>\n",
       "      <td>0.0024</td>\n",
       "      <td>0.0024</td>\n",
       "      <td>0.0024</td>\n",
       "      <td>0.0024</td>\n",
       "      <td>0.0146</td>\n",
       "      <td>0.0415</td>\n",
       "      <td>0.0537</td>\n",
       "      <td>0.0024</td>\n",
       "      <td>0.0049</td>\n",
       "      <td>...</td>\n",
       "      <td>0.0293</td>\n",
       "      <td>0.0024</td>\n",
       "      <td>0.0024</td>\n",
       "      <td>0.0024</td>\n",
       "      <td>0.0024</td>\n",
       "      <td>0.0146</td>\n",
       "      <td>0.0342</td>\n",
       "      <td>0.0439</td>\n",
       "      <td>0.0024</td>\n",
       "      <td>0.0220</td>\n",
       "    </tr>\n",
       "    <tr>\n",
       "      <th>22</th>\n",
       "      <td>0.0098</td>\n",
       "      <td>0.0024</td>\n",
       "      <td>0.0024</td>\n",
       "      <td>0.0024</td>\n",
       "      <td>0.0024</td>\n",
       "      <td>0.0024</td>\n",
       "      <td>0.0024</td>\n",
       "      <td>0.0195</td>\n",
       "      <td>0.0024</td>\n",
       "      <td>0.0024</td>\n",
       "      <td>...</td>\n",
       "      <td>0.0464</td>\n",
       "      <td>0.0024</td>\n",
       "      <td>0.0024</td>\n",
       "      <td>0.0024</td>\n",
       "      <td>0.0024</td>\n",
       "      <td>0.0244</td>\n",
       "      <td>0.0024</td>\n",
       "      <td>0.0293</td>\n",
       "      <td>0.0024</td>\n",
       "      <td>0.0024</td>\n",
       "    </tr>\n",
       "  </tbody>\n",
       "</table>\n",
       "<p>6 rows × 5000 columns</p>\n",
       "</div>"
      ],
      "text/plain": [
       "      0       1       2       3       4       5       6       7       8     \\\n",
       "20  0.0146  0.0024  0.0024  0.0024  0.0024  0.0171  0.1636  0.0757  0.0024   \n",
       "10  0.0146  0.0024  0.0024  0.0024  0.0024  0.0024  0.0952  0.0659  0.0024   \n",
       "7   0.0537  0.0024  0.0024  0.0024  0.0049  0.0024  0.1538  0.0659  0.0024   \n",
       "4   0.0342  0.0024  0.0024  0.0024  0.0024  0.0024  0.0659  0.0537  0.0024   \n",
       "17  0.0366  0.0024  0.0024  0.0024  0.0024  0.0146  0.0415  0.0537  0.0024   \n",
       "22  0.0098  0.0024  0.0024  0.0024  0.0024  0.0024  0.0024  0.0195  0.0024   \n",
       "\n",
       "      9     ...    4990    4991    4992    4993    4994    4995    4996  \\\n",
       "20  0.0024  ...  0.0903  0.0024  0.0024  0.0024  0.0024  0.0220  0.1294   \n",
       "10  0.0024  ...  0.2393  0.0024  0.0293  0.0024  0.0024  0.0269  0.2759   \n",
       "7   0.0024  ...  0.0317  0.0024  0.0024  0.0024  0.0024  0.0122  0.1514   \n",
       "4   0.0024  ...  0.3491  0.0024  0.0024  0.0024  0.0024  0.0098  0.1636   \n",
       "17  0.0049  ...  0.0293  0.0024  0.0024  0.0024  0.0024  0.0146  0.0342   \n",
       "22  0.0024  ...  0.0464  0.0024  0.0024  0.0024  0.0024  0.0244  0.0024   \n",
       "\n",
       "      4997    4998    4999  \n",
       "20  0.1270  0.0024  0.0024  \n",
       "10  0.1563  0.0146  0.0024  \n",
       "7   0.0806  0.0024  0.0024  \n",
       "4   0.1147  0.0024  0.0024  \n",
       "17  0.0439  0.0024  0.0220  \n",
       "22  0.0293  0.0024  0.0024  \n",
       "\n",
       "[6 rows x 5000 columns]"
      ]
     },
     "execution_count": 83,
     "metadata": {},
     "output_type": "execute_result"
    }
   ],
   "source": [
    "X_test"
   ]
  },
  {
   "cell_type": "markdown",
   "id": "97bd5a4d",
   "metadata": {},
   "source": [
    "#### Restimulus"
   ]
  },
  {
   "cell_type": "code",
   "execution_count": 84,
   "id": "3cbe8876",
   "metadata": {},
   "outputs": [],
   "source": [
    "# Trying knn on restimulus\n",
    "sub4_ex2 = load_data_DB1(subject=4,exercise=2)\n",
    "move_1 = get_movement_df_restimulus(data=sub4_ex2,movement=1)\n",
    "move_2 = get_movement_df_restimulus(data=sub4_ex2,movement=2)\n",
    "move_3 = get_movement_df_restimulus(data=sub4_ex2,movement=3)\n",
    "\n",
    "# Add All moves to one dataframe\n",
    "movements_ex2 = pd.concat([move_1,move_2,move_3],ignore_index=True)"
   ]
  },
  {
   "cell_type": "code",
   "execution_count": 85,
   "id": "348f651b",
   "metadata": {},
   "outputs": [
    {
     "name": "stdout",
     "output_type": "stream",
     "text": [
      "Accuracy of training set: 1.0\n",
      "Accuracy of test set: 0.8333333333333334 \n"
     ]
    }
   ],
   "source": [
    "# Trying knn on 200 rows (restimulus)\n",
    "from sklearn.neighbors import KNeighborsClassifier\n",
    "from sklearn.model_selection import train_test_split\n",
    "\n",
    "np.random.seed(101)\n",
    "\n",
    "X = movements_ex2.drop(\"target_movement\",axis=1)\n",
    "y = movements_ex2[\"target_movement\"]\n",
    "\n",
    "X_train, X_test, y_train, y_test = train_test_split(X , y , test_size=0.2, stratify=y)\n",
    "\n",
    "knn = KNeighborsClassifier(n_neighbors=3)\n",
    "knn.fit(X_train, y_train)\n",
    "\n",
    "print(f\"Accuracy of training set: {knn.score(X_train, y_train)}\")\n",
    "print(f\"Accuracy of test set: {knn.score(X_test, y_test)} \")"
   ]
  },
  {
   "cell_type": "code",
   "execution_count": 86,
   "id": "df60122f",
   "metadata": {},
   "outputs": [
    {
     "data": {
      "text/plain": [
       "(array([2, 2, 1, 1, 2, 3]), array([3, 2, 1, 1, 2, 3]))"
      ]
     },
     "execution_count": 86,
     "metadata": {},
     "output_type": "execute_result"
    }
   ],
   "source": [
    "knn.predict(X_test) ,  np.array(y_test)"
   ]
  },
  {
   "cell_type": "code",
   "execution_count": 87,
   "id": "653baf1a",
   "metadata": {},
   "outputs": [
    {
     "data": {
      "text/html": [
       "<div>\n",
       "<style scoped>\n",
       "    .dataframe tbody tr th:only-of-type {\n",
       "        vertical-align: middle;\n",
       "    }\n",
       "\n",
       "    .dataframe tbody tr th {\n",
       "        vertical-align: top;\n",
       "    }\n",
       "\n",
       "    .dataframe thead th {\n",
       "        text-align: right;\n",
       "    }\n",
       "</style>\n",
       "<table border=\"1\" class=\"dataframe\">\n",
       "  <thead>\n",
       "    <tr style=\"text-align: right;\">\n",
       "      <th></th>\n",
       "      <th>0</th>\n",
       "      <th>1</th>\n",
       "      <th>2</th>\n",
       "      <th>3</th>\n",
       "      <th>4</th>\n",
       "      <th>5</th>\n",
       "      <th>6</th>\n",
       "      <th>7</th>\n",
       "      <th>8</th>\n",
       "      <th>9</th>\n",
       "      <th>...</th>\n",
       "      <th>1990</th>\n",
       "      <th>1991</th>\n",
       "      <th>1992</th>\n",
       "      <th>1993</th>\n",
       "      <th>1994</th>\n",
       "      <th>1995</th>\n",
       "      <th>1996</th>\n",
       "      <th>1997</th>\n",
       "      <th>1998</th>\n",
       "      <th>1999</th>\n",
       "    </tr>\n",
       "  </thead>\n",
       "  <tbody>\n",
       "    <tr>\n",
       "      <th>23</th>\n",
       "      <td>0.1196</td>\n",
       "      <td>0.0146</td>\n",
       "      <td>0.0024</td>\n",
       "      <td>0.0024</td>\n",
       "      <td>0.0024</td>\n",
       "      <td>0.0146</td>\n",
       "      <td>0.0024</td>\n",
       "      <td>0.0317</td>\n",
       "      <td>0.0342</td>\n",
       "      <td>0.0024</td>\n",
       "      <td>...</td>\n",
       "      <td>0.4175</td>\n",
       "      <td>0.7373</td>\n",
       "      <td>0.2783</td>\n",
       "      <td>0.0122</td>\n",
       "      <td>0.0537</td>\n",
       "      <td>0.3149</td>\n",
       "      <td>1.1206</td>\n",
       "      <td>0.3296</td>\n",
       "      <td>0.5884</td>\n",
       "      <td>0.2930</td>\n",
       "    </tr>\n",
       "    <tr>\n",
       "      <th>18</th>\n",
       "      <td>0.0269</td>\n",
       "      <td>0.0024</td>\n",
       "      <td>0.0024</td>\n",
       "      <td>0.0024</td>\n",
       "      <td>0.0024</td>\n",
       "      <td>0.0122</td>\n",
       "      <td>0.0830</td>\n",
       "      <td>0.0513</td>\n",
       "      <td>0.0024</td>\n",
       "      <td>0.0293</td>\n",
       "      <td>...</td>\n",
       "      <td>0.1099</td>\n",
       "      <td>0.0537</td>\n",
       "      <td>0.1074</td>\n",
       "      <td>0.0049</td>\n",
       "      <td>0.0073</td>\n",
       "      <td>0.1196</td>\n",
       "      <td>0.7983</td>\n",
       "      <td>0.2173</td>\n",
       "      <td>0.1416</td>\n",
       "      <td>0.1025</td>\n",
       "    </tr>\n",
       "    <tr>\n",
       "      <th>1</th>\n",
       "      <td>0.1099</td>\n",
       "      <td>0.0024</td>\n",
       "      <td>0.0024</td>\n",
       "      <td>0.0024</td>\n",
       "      <td>0.0024</td>\n",
       "      <td>0.0122</td>\n",
       "      <td>0.0854</td>\n",
       "      <td>0.0781</td>\n",
       "      <td>0.0293</td>\n",
       "      <td>0.0171</td>\n",
       "      <td>...</td>\n",
       "      <td>0.7373</td>\n",
       "      <td>0.1904</td>\n",
       "      <td>0.0342</td>\n",
       "      <td>0.0220</td>\n",
       "      <td>0.0635</td>\n",
       "      <td>0.1245</td>\n",
       "      <td>0.3247</td>\n",
       "      <td>0.6323</td>\n",
       "      <td>0.3223</td>\n",
       "      <td>0.4736</td>\n",
       "    </tr>\n",
       "    <tr>\n",
       "      <th>6</th>\n",
       "      <td>0.0513</td>\n",
       "      <td>0.0049</td>\n",
       "      <td>0.0024</td>\n",
       "      <td>0.0024</td>\n",
       "      <td>0.0024</td>\n",
       "      <td>0.0049</td>\n",
       "      <td>0.1025</td>\n",
       "      <td>0.0659</td>\n",
       "      <td>0.0098</td>\n",
       "      <td>0.0024</td>\n",
       "      <td>...</td>\n",
       "      <td>0.4736</td>\n",
       "      <td>0.1318</td>\n",
       "      <td>0.0244</td>\n",
       "      <td>0.0024</td>\n",
       "      <td>0.0171</td>\n",
       "      <td>0.0659</td>\n",
       "      <td>0.3296</td>\n",
       "      <td>0.4272</td>\n",
       "      <td>0.2051</td>\n",
       "      <td>0.2319</td>\n",
       "    </tr>\n",
       "    <tr>\n",
       "      <th>15</th>\n",
       "      <td>0.0342</td>\n",
       "      <td>0.0024</td>\n",
       "      <td>0.0610</td>\n",
       "      <td>0.0024</td>\n",
       "      <td>0.0024</td>\n",
       "      <td>0.0342</td>\n",
       "      <td>0.1953</td>\n",
       "      <td>0.0757</td>\n",
       "      <td>0.0024</td>\n",
       "      <td>0.0391</td>\n",
       "      <td>...</td>\n",
       "      <td>0.0098</td>\n",
       "      <td>0.0024</td>\n",
       "      <td>0.0024</td>\n",
       "      <td>0.0024</td>\n",
       "      <td>0.0024</td>\n",
       "      <td>0.0317</td>\n",
       "      <td>0.2026</td>\n",
       "      <td>0.0732</td>\n",
       "      <td>0.0024</td>\n",
       "      <td>0.0610</td>\n",
       "    </tr>\n",
       "    <tr>\n",
       "      <th>28</th>\n",
       "      <td>0.0757</td>\n",
       "      <td>0.0049</td>\n",
       "      <td>0.0757</td>\n",
       "      <td>0.0024</td>\n",
       "      <td>0.0024</td>\n",
       "      <td>0.0317</td>\n",
       "      <td>0.1807</td>\n",
       "      <td>0.0610</td>\n",
       "      <td>0.0024</td>\n",
       "      <td>0.0537</td>\n",
       "      <td>...</td>\n",
       "      <td>0.2563</td>\n",
       "      <td>0.4468</td>\n",
       "      <td>0.2319</td>\n",
       "      <td>0.0024</td>\n",
       "      <td>0.0269</td>\n",
       "      <td>0.2148</td>\n",
       "      <td>0.9692</td>\n",
       "      <td>0.2441</td>\n",
       "      <td>0.4565</td>\n",
       "      <td>0.2393</td>\n",
       "    </tr>\n",
       "  </tbody>\n",
       "</table>\n",
       "<p>6 rows × 2000 columns</p>\n",
       "</div>"
      ],
      "text/plain": [
       "      0       1       2       3       4       5       6       7       8     \\\n",
       "23  0.1196  0.0146  0.0024  0.0024  0.0024  0.0146  0.0024  0.0317  0.0342   \n",
       "18  0.0269  0.0024  0.0024  0.0024  0.0024  0.0122  0.0830  0.0513  0.0024   \n",
       "1   0.1099  0.0024  0.0024  0.0024  0.0024  0.0122  0.0854  0.0781  0.0293   \n",
       "6   0.0513  0.0049  0.0024  0.0024  0.0024  0.0049  0.1025  0.0659  0.0098   \n",
       "15  0.0342  0.0024  0.0610  0.0024  0.0024  0.0342  0.1953  0.0757  0.0024   \n",
       "28  0.0757  0.0049  0.0757  0.0024  0.0024  0.0317  0.1807  0.0610  0.0024   \n",
       "\n",
       "      9     ...    1990    1991    1992    1993    1994    1995    1996  \\\n",
       "23  0.0024  ...  0.4175  0.7373  0.2783  0.0122  0.0537  0.3149  1.1206   \n",
       "18  0.0293  ...  0.1099  0.0537  0.1074  0.0049  0.0073  0.1196  0.7983   \n",
       "1   0.0171  ...  0.7373  0.1904  0.0342  0.0220  0.0635  0.1245  0.3247   \n",
       "6   0.0024  ...  0.4736  0.1318  0.0244  0.0024  0.0171  0.0659  0.3296   \n",
       "15  0.0391  ...  0.0098  0.0024  0.0024  0.0024  0.0024  0.0317  0.2026   \n",
       "28  0.0537  ...  0.2563  0.4468  0.2319  0.0024  0.0269  0.2148  0.9692   \n",
       "\n",
       "      1997    1998    1999  \n",
       "23  0.3296  0.5884  0.2930  \n",
       "18  0.2173  0.1416  0.1025  \n",
       "1   0.6323  0.3223  0.4736  \n",
       "6   0.4272  0.2051  0.2319  \n",
       "15  0.0732  0.0024  0.0610  \n",
       "28  0.2441  0.4565  0.2393  \n",
       "\n",
       "[6 rows x 2000 columns]"
      ]
     },
     "execution_count": 87,
     "metadata": {},
     "output_type": "execute_result"
    }
   ],
   "source": [
    "X_test"
   ]
  },
  {
   "cell_type": "code",
   "execution_count": 97,
   "id": "f48a0765",
   "metadata": {},
   "outputs": [
    {
     "name": "stdout",
     "output_type": "stream",
     "text": [
      "Accuracy of training set: 1.0\n",
      "Accuracy of test set: 0.8333333333333334 \n"
     ]
    }
   ],
   "source": [
    "# Trying Random Forest on 200 rows (restimulus)\n",
    "from sklearn.ensemble import RandomForestClassifier\n",
    "from sklearn.model_selection import train_test_split\n",
    "\n",
    "np.random.seed(65)\n",
    "\n",
    "X = movements_ex2.drop(\"target_movement\",axis=1)\n",
    "y = movements_ex2[\"target_movement\"]\n",
    "\n",
    "X_train, X_test, y_train, y_test = train_test_split(X , y , test_size=0.2, stratify=y)\n",
    "\n",
    "rfc = RandomForestClassifier(n_estimators=100)\n",
    "rfc.fit(X_train, y_train)\n",
    "\n",
    "print(f\"Accuracy of training set: {rfc.score(X_train, y_train)}\")\n",
    "print(f\"Accuracy of test set: {rfc.score(X_test, y_test)} \")"
   ]
  },
  {
   "cell_type": "code",
   "execution_count": 98,
   "id": "4ced42a6",
   "metadata": {},
   "outputs": [
    {
     "data": {
      "text/plain": [
       "(array([1, 2, 2, 1, 2, 3]), array([1, 2, 2, 1, 3, 3]))"
      ]
     },
     "execution_count": 98,
     "metadata": {},
     "output_type": "execute_result"
    }
   ],
   "source": [
    "rfc.predict(X_test) ,  np.array(y_test)"
   ]
  },
  {
   "cell_type": "code",
   "execution_count": 99,
   "id": "3660f529",
   "metadata": {},
   "outputs": [
    {
     "data": {
      "text/html": [
       "<div>\n",
       "<style scoped>\n",
       "    .dataframe tbody tr th:only-of-type {\n",
       "        vertical-align: middle;\n",
       "    }\n",
       "\n",
       "    .dataframe tbody tr th {\n",
       "        vertical-align: top;\n",
       "    }\n",
       "\n",
       "    .dataframe thead th {\n",
       "        text-align: right;\n",
       "    }\n",
       "</style>\n",
       "<table border=\"1\" class=\"dataframe\">\n",
       "  <thead>\n",
       "    <tr style=\"text-align: right;\">\n",
       "      <th></th>\n",
       "      <th>0</th>\n",
       "      <th>1</th>\n",
       "      <th>2</th>\n",
       "      <th>3</th>\n",
       "      <th>4</th>\n",
       "      <th>5</th>\n",
       "      <th>6</th>\n",
       "      <th>7</th>\n",
       "      <th>8</th>\n",
       "      <th>9</th>\n",
       "      <th>...</th>\n",
       "      <th>1990</th>\n",
       "      <th>1991</th>\n",
       "      <th>1992</th>\n",
       "      <th>1993</th>\n",
       "      <th>1994</th>\n",
       "      <th>1995</th>\n",
       "      <th>1996</th>\n",
       "      <th>1997</th>\n",
       "      <th>1998</th>\n",
       "      <th>1999</th>\n",
       "    </tr>\n",
       "  </thead>\n",
       "  <tbody>\n",
       "    <tr>\n",
       "      <th>5</th>\n",
       "      <td>0.0513</td>\n",
       "      <td>0.0024</td>\n",
       "      <td>0.0024</td>\n",
       "      <td>0.0024</td>\n",
       "      <td>0.0024</td>\n",
       "      <td>0.0049</td>\n",
       "      <td>0.1343</td>\n",
       "      <td>0.0830</td>\n",
       "      <td>0.0024</td>\n",
       "      <td>0.0098</td>\n",
       "      <td>...</td>\n",
       "      <td>0.3711</td>\n",
       "      <td>0.1758</td>\n",
       "      <td>0.0146</td>\n",
       "      <td>0.0024</td>\n",
       "      <td>0.0171</td>\n",
       "      <td>0.0635</td>\n",
       "      <td>0.2075</td>\n",
       "      <td>0.5859</td>\n",
       "      <td>0.2295</td>\n",
       "      <td>0.2637</td>\n",
       "    </tr>\n",
       "    <tr>\n",
       "      <th>11</th>\n",
       "      <td>0.3833</td>\n",
       "      <td>0.0049</td>\n",
       "      <td>0.0024</td>\n",
       "      <td>0.0024</td>\n",
       "      <td>0.0024</td>\n",
       "      <td>0.0439</td>\n",
       "      <td>0.1904</td>\n",
       "      <td>0.1709</td>\n",
       "      <td>0.0635</td>\n",
       "      <td>0.0024</td>\n",
       "      <td>...</td>\n",
       "      <td>0.6885</td>\n",
       "      <td>0.4980</td>\n",
       "      <td>0.1636</td>\n",
       "      <td>0.0098</td>\n",
       "      <td>0.0220</td>\n",
       "      <td>0.1758</td>\n",
       "      <td>0.7129</td>\n",
       "      <td>0.2734</td>\n",
       "      <td>0.3809</td>\n",
       "      <td>0.2295</td>\n",
       "    </tr>\n",
       "    <tr>\n",
       "      <th>18</th>\n",
       "      <td>0.0269</td>\n",
       "      <td>0.0024</td>\n",
       "      <td>0.0024</td>\n",
       "      <td>0.0024</td>\n",
       "      <td>0.0024</td>\n",
       "      <td>0.0122</td>\n",
       "      <td>0.0830</td>\n",
       "      <td>0.0513</td>\n",
       "      <td>0.0024</td>\n",
       "      <td>0.0293</td>\n",
       "      <td>...</td>\n",
       "      <td>0.1099</td>\n",
       "      <td>0.0537</td>\n",
       "      <td>0.1074</td>\n",
       "      <td>0.0049</td>\n",
       "      <td>0.0073</td>\n",
       "      <td>0.1196</td>\n",
       "      <td>0.7983</td>\n",
       "      <td>0.2173</td>\n",
       "      <td>0.1416</td>\n",
       "      <td>0.1025</td>\n",
       "    </tr>\n",
       "    <tr>\n",
       "      <th>8</th>\n",
       "      <td>0.0659</td>\n",
       "      <td>0.0049</td>\n",
       "      <td>0.0024</td>\n",
       "      <td>0.0024</td>\n",
       "      <td>0.0024</td>\n",
       "      <td>0.0146</td>\n",
       "      <td>0.0464</td>\n",
       "      <td>0.0586</td>\n",
       "      <td>0.0024</td>\n",
       "      <td>0.0049</td>\n",
       "      <td>...</td>\n",
       "      <td>0.4346</td>\n",
       "      <td>0.1489</td>\n",
       "      <td>0.0366</td>\n",
       "      <td>0.0098</td>\n",
       "      <td>0.0488</td>\n",
       "      <td>0.0928</td>\n",
       "      <td>0.1880</td>\n",
       "      <td>0.4297</td>\n",
       "      <td>0.2100</td>\n",
       "      <td>0.2783</td>\n",
       "    </tr>\n",
       "    <tr>\n",
       "      <th>23</th>\n",
       "      <td>0.1196</td>\n",
       "      <td>0.0146</td>\n",
       "      <td>0.0024</td>\n",
       "      <td>0.0024</td>\n",
       "      <td>0.0024</td>\n",
       "      <td>0.0146</td>\n",
       "      <td>0.0024</td>\n",
       "      <td>0.0317</td>\n",
       "      <td>0.0342</td>\n",
       "      <td>0.0024</td>\n",
       "      <td>...</td>\n",
       "      <td>0.4175</td>\n",
       "      <td>0.7373</td>\n",
       "      <td>0.2783</td>\n",
       "      <td>0.0122</td>\n",
       "      <td>0.0537</td>\n",
       "      <td>0.3149</td>\n",
       "      <td>1.1206</td>\n",
       "      <td>0.3296</td>\n",
       "      <td>0.5884</td>\n",
       "      <td>0.2930</td>\n",
       "    </tr>\n",
       "    <tr>\n",
       "      <th>28</th>\n",
       "      <td>0.0757</td>\n",
       "      <td>0.0049</td>\n",
       "      <td>0.0757</td>\n",
       "      <td>0.0024</td>\n",
       "      <td>0.0024</td>\n",
       "      <td>0.0317</td>\n",
       "      <td>0.1807</td>\n",
       "      <td>0.0610</td>\n",
       "      <td>0.0024</td>\n",
       "      <td>0.0537</td>\n",
       "      <td>...</td>\n",
       "      <td>0.2563</td>\n",
       "      <td>0.4468</td>\n",
       "      <td>0.2319</td>\n",
       "      <td>0.0024</td>\n",
       "      <td>0.0269</td>\n",
       "      <td>0.2148</td>\n",
       "      <td>0.9692</td>\n",
       "      <td>0.2441</td>\n",
       "      <td>0.4565</td>\n",
       "      <td>0.2393</td>\n",
       "    </tr>\n",
       "  </tbody>\n",
       "</table>\n",
       "<p>6 rows × 2000 columns</p>\n",
       "</div>"
      ],
      "text/plain": [
       "      0       1       2       3       4       5       6       7       8     \\\n",
       "5   0.0513  0.0024  0.0024  0.0024  0.0024  0.0049  0.1343  0.0830  0.0024   \n",
       "11  0.3833  0.0049  0.0024  0.0024  0.0024  0.0439  0.1904  0.1709  0.0635   \n",
       "18  0.0269  0.0024  0.0024  0.0024  0.0024  0.0122  0.0830  0.0513  0.0024   \n",
       "8   0.0659  0.0049  0.0024  0.0024  0.0024  0.0146  0.0464  0.0586  0.0024   \n",
       "23  0.1196  0.0146  0.0024  0.0024  0.0024  0.0146  0.0024  0.0317  0.0342   \n",
       "28  0.0757  0.0049  0.0757  0.0024  0.0024  0.0317  0.1807  0.0610  0.0024   \n",
       "\n",
       "      9     ...    1990    1991    1992    1993    1994    1995    1996  \\\n",
       "5   0.0098  ...  0.3711  0.1758  0.0146  0.0024  0.0171  0.0635  0.2075   \n",
       "11  0.0024  ...  0.6885  0.4980  0.1636  0.0098  0.0220  0.1758  0.7129   \n",
       "18  0.0293  ...  0.1099  0.0537  0.1074  0.0049  0.0073  0.1196  0.7983   \n",
       "8   0.0049  ...  0.4346  0.1489  0.0366  0.0098  0.0488  0.0928  0.1880   \n",
       "23  0.0024  ...  0.4175  0.7373  0.2783  0.0122  0.0537  0.3149  1.1206   \n",
       "28  0.0537  ...  0.2563  0.4468  0.2319  0.0024  0.0269  0.2148  0.9692   \n",
       "\n",
       "      1997    1998    1999  \n",
       "5   0.5859  0.2295  0.2637  \n",
       "11  0.2734  0.3809  0.2295  \n",
       "18  0.2173  0.1416  0.1025  \n",
       "8   0.4297  0.2100  0.2783  \n",
       "23  0.3296  0.5884  0.2930  \n",
       "28  0.2441  0.4565  0.2393  \n",
       "\n",
       "[6 rows x 2000 columns]"
      ]
     },
     "execution_count": 99,
     "metadata": {},
     "output_type": "execute_result"
    }
   ],
   "source": [
    "X_test"
   ]
  },
  {
   "cell_type": "markdown",
   "id": "fe9e631b",
   "metadata": {},
   "source": [
    "# Notes:\n",
    "The fourth repetition in movement 3 is always misclassified as movement 2"
   ]
  },
  {
   "cell_type": "code",
   "execution_count": 100,
   "id": "6d8710d1",
   "metadata": {},
   "outputs": [
    {
     "data": {
      "image/png": "[encoded data removed]",
      "text/plain": [
       "<Figure size 1440x1080 with 12 Axes>"
      ]
     },
     "metadata": {
      "needs_background": "light"
     },
     "output_type": "display_data"
    }
   ],
   "source": [
    "# Plotting repetitions of movement 2 in exercise 2 concatenating 200 rows\n",
    "fig , axes = plt.subplots(nrows = 4, ncols=3, figsize=(20,15))\n",
    "movement2_startIdx_restimulus = get_restimulus_start_indexes(data=sub4_ex2, movement=3)\n",
    "\n",
    "r = 0\n",
    "c = 0\n",
    "\n",
    "for i in range(0,10):\n",
    "    if i % 3 == 0 and i > 0:\n",
    "        r += 1\n",
    "        c = 0\n",
    "    st = movement2_startIdx_restimulus[i]\n",
    "    axes[r,c].plot(range(1,2001),sub4_ex2['emg'][st:st+200].flatten())\n",
    "    c+=1\n"
   ]
  },
  {
   "cell_type": "markdown",
   "id": "ced91227",
   "metadata": {},
   "source": [
    "#### Classification of movements: 3, 13 ,23 in exercise 3 for subject 4"
   ]
  },
  {
   "cell_type": "code",
   "execution_count": 101,
   "id": "736dc14c",
   "metadata": {},
   "outputs": [],
   "source": [
    "sub4_ex3 = load_data_DB1(subject=4,exercise=3)\n",
    "move_3 = get_movement_df_stimulus(data=sub4_ex3,movement=3)\n",
    "move_13 = get_movement_df_stimulus(data=sub4_ex3,movement=13)\n",
    "move_23 = get_movement_df_stimulus(data=sub4_ex3,movement=23)\n",
    "\n",
    "# Add All moves to one dataframe\n",
    "movements_ex3 = pd.concat([move_3,move_13,move_23],ignore_index=True)"
   ]
  },
  {
   "cell_type": "code",
   "execution_count": 102,
   "id": "84adeaa6",
   "metadata": {},
   "outputs": [
    {
     "name": "stdout",
     "output_type": "stream",
     "text": [
      "Avg Accuracy on training set of KNN model:  0.9318181818181819\n",
      "Avg Accuracy for test set of KNN model:  0.875\n",
      "Avg Accuracy on training set of SVM model:  0.981818181818182\n",
      "Avg Accuracy for test set of SVM model:  0.9375\n"
     ]
    },
    {
     "data": {
      "image/png": "[encoded data removed]",
      "text/plain": [
       "<Figure size 1080x360 with 2 Axes>"
      ]
     },
     "metadata": {
      "needs_background": "light"
     },
     "output_type": "display_data"
    }
   ],
   "source": [
    "random_states = [0,1,42,101,500,63,84,36,111,99]\n",
    "\n",
    "classify_movements(test_size=0.25,random_states=random_states,data=movements_ex3)"
   ]
  },
  {
   "cell_type": "markdown",
   "id": "524acba2",
   "metadata": {},
   "source": [
    "#### Classification of movements: 1 in exercise 1, 1 in exercise 2 and 1 in exercise 3 for subject 4"
   ]
  },
  {
   "cell_type": "code",
   "execution_count": 202,
   "id": "101477b6",
   "metadata": {},
   "outputs": [],
   "source": [
    "move1_ex1 = get_movement_df_stimulus(data=sub4_ex1,movement=1)\n",
    "move1_ex2 = get_movement_df_stimulus(data=sub4_ex2,movement=1)\n",
    "move1_ex3 = get_movement_df_stimulus(data=sub4_ex3,movement=1)\n",
    "\n",
    "move1_ex2['target_movement'] = 2\n",
    "move1_ex3['target_movement'] = 3\n",
    "# Add All moves to one dataframe\n",
    "movements = pd.concat([move1_ex1,move1_ex2,move1_ex3],ignore_index=True)"
   ]
  },
  {
   "cell_type": "code",
   "execution_count": 203,
   "id": "681b02ab",
   "metadata": {},
   "outputs": [
    {
     "name": "stdout",
     "output_type": "stream",
     "text": [
      "Avg Accuracy on training set of KNN model:  1.0\n",
      "Avg Accuracy for test set of KNN model:  0.95\n",
      "Avg Accuracy on training set of SVM model:  1.0\n",
      "Avg Accuracy for test set of SVM model:  0.975\n"
     ]
    },
    {
     "data": {
      "image/png": "[encoded data removed]",
      "text/plain": [
       "<Figure size 1080x360 with 2 Axes>"
      ]
     },
     "metadata": {
      "needs_background": "light"
     },
     "output_type": "display_data"
    }
   ],
   "source": [
    "random_states = [0,1,42,101,500,63,84,36,111,99]\n",
    "\n",
    "classify_movements(test_size=0.25,random_states=random_states,data=movements)"
   ]
  },
  {
   "cell_type": "code",
   "execution_count": null,
   "id": "d8c6ff59",
   "metadata": {},
   "outputs": [],
   "source": []
  }
 ],
 "metadata": {
  "kernelspec": {
   "display_name": "Python 3",
   "language": "python",
   "name": "python3"
  },
  "language_info": {
   "codemirror_mode": {
    "name": "ipython",
    "version": 3
   },
   "file_extension": ".py",
   "mimetype": "text/x-python",
   "name": "python",
   "nbconvert_exporter": "python",
   "pygments_lexer": "ipython3",
   "version": "3.8.8"
  }
 },
 "nbformat": 4,
 "nbformat_minor": 5
}
