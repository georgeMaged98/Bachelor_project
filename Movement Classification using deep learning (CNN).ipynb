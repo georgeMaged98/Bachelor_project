{
 "cells": [
  {
   "cell_type": "markdown",
   "id": "07713037",
   "metadata": {},
   "source": [
    "# Classification of movements using convnets\n",
    "\n",
    "**Basic Imports**"
   ]
  },
  {
   "cell_type": "code",
   "execution_count": 18,
   "id": "c896f2bf",
   "metadata": {},
   "outputs": [],
   "source": [
    "import tensorflow as tf\n",
    "import pandas as pd\n",
    "import numpy as np\n",
    "import matplotlib.pyplot as plt\n",
    "from sklearn.model_selection import train_test_split\n",
    "from sklearn.preprocessing import MinMaxScaler\n",
    "from tensorflow import keras\n",
    "from scipy.io import loadmat\n",
    "%matplotlib inline"
   ]
  },
  {
   "cell_type": "code",
   "execution_count": 2,
   "id": "b7ef6be2",
   "metadata": {},
   "outputs": [],
   "source": [
    "def load_data_DB1(subject,exercise):\n",
    "    data = loadmat(f'../Dataset/DB1/s{subject}/S{subject}_A1_E{exercise}.mat')\n",
    "    return data"
   ]
  },
  {
   "cell_type": "code",
   "execution_count": 3,
   "id": "76074541",
   "metadata": {},
   "outputs": [],
   "source": [
    "def get_start_indexes(data,movement,target):\n",
    "    start_indexes=[]\n",
    "    for idx,move in enumerate(data[target]):\n",
    "        if move[0] == movement and data[target][idx-1][0] == 0:\n",
    "            start_indexes.append(idx)\n",
    "        if len(start_indexes) == 10:\n",
    "            break\n",
    "    return start_indexes"
   ]
  },
  {
   "cell_type": "code",
   "execution_count": 4,
   "id": "b17c19a6",
   "metadata": {},
   "outputs": [],
   "source": [
    "def get_movement_df(data,movement,target):\n",
    "    '''\n",
    "    Returns the repetitions of a movement based on fixed length of repetition.\n",
    "    if target is stimulus then each rep takes 5 seconds but if target is restimulus then each rep takes 2 seconds\n",
    "    '''\n",
    "    start_indexes = get_start_indexes(data,movement,target)\n",
    "    df= pd.DataFrame()\n",
    "    step = 500 if target == 'stimulus' else 200\n",
    "    for i in start_indexes:\n",
    "        new_row = data['emg'][i:i+step]\n",
    "        df = df.append(pd.DataFrame(new_row),ignore_index=True)\n",
    "    target_movement = np.full((2000,1),movement,dtype=int)\n",
    "    df['target'] = target_movement\n",
    "    return df"
   ]
  },
  {
   "cell_type": "markdown",
   "id": "1245f0e7",
   "metadata": {},
   "source": [
    "## Classification of exercise 1 movements for one subject"
   ]
  },
  {
   "cell_type": "code",
   "execution_count": 5,
   "id": "b386ca82",
   "metadata": {},
   "outputs": [
    {
     "data": {
      "text/html": [
       "<div>\n",
       "<style scoped>\n",
       "    .dataframe tbody tr th:only-of-type {\n",
       "        vertical-align: middle;\n",
       "    }\n",
       "\n",
       "    .dataframe tbody tr th {\n",
       "        vertical-align: top;\n",
       "    }\n",
       "\n",
       "    .dataframe thead th {\n",
       "        text-align: right;\n",
       "    }\n",
       "</style>\n",
       "<table border=\"1\" class=\"dataframe\">\n",
       "  <thead>\n",
       "    <tr style=\"text-align: right;\">\n",
       "      <th></th>\n",
       "      <th>0</th>\n",
       "      <th>1</th>\n",
       "      <th>2</th>\n",
       "      <th>3</th>\n",
       "      <th>4</th>\n",
       "      <th>5</th>\n",
       "      <th>6</th>\n",
       "      <th>7</th>\n",
       "      <th>8</th>\n",
       "      <th>9</th>\n",
       "      <th>target</th>\n",
       "    </tr>\n",
       "  </thead>\n",
       "  <tbody>\n",
       "    <tr>\n",
       "      <th>0</th>\n",
       "      <td>0.0024</td>\n",
       "      <td>0.0024</td>\n",
       "      <td>0.0146</td>\n",
       "      <td>0.0049</td>\n",
       "      <td>0.0024</td>\n",
       "      <td>0.0024</td>\n",
       "      <td>0.0439</td>\n",
       "      <td>0.0757</td>\n",
       "      <td>0.0073</td>\n",
       "      <td>0.0244</td>\n",
       "      <td>1</td>\n",
       "    </tr>\n",
       "    <tr>\n",
       "      <th>1</th>\n",
       "      <td>0.0024</td>\n",
       "      <td>0.0024</td>\n",
       "      <td>0.0244</td>\n",
       "      <td>0.0073</td>\n",
       "      <td>0.0024</td>\n",
       "      <td>0.0024</td>\n",
       "      <td>0.0513</td>\n",
       "      <td>0.0879</td>\n",
       "      <td>0.0098</td>\n",
       "      <td>0.0269</td>\n",
       "      <td>1</td>\n",
       "    </tr>\n",
       "    <tr>\n",
       "      <th>2</th>\n",
       "      <td>0.0024</td>\n",
       "      <td>0.0024</td>\n",
       "      <td>0.0244</td>\n",
       "      <td>0.0049</td>\n",
       "      <td>0.0049</td>\n",
       "      <td>0.0024</td>\n",
       "      <td>0.0488</td>\n",
       "      <td>0.1001</td>\n",
       "      <td>0.0098</td>\n",
       "      <td>0.0244</td>\n",
       "      <td>1</td>\n",
       "    </tr>\n",
       "    <tr>\n",
       "      <th>3</th>\n",
       "      <td>0.0024</td>\n",
       "      <td>0.0024</td>\n",
       "      <td>0.0171</td>\n",
       "      <td>0.0024</td>\n",
       "      <td>0.0024</td>\n",
       "      <td>0.0024</td>\n",
       "      <td>0.0464</td>\n",
       "      <td>0.1025</td>\n",
       "      <td>0.0024</td>\n",
       "      <td>0.0220</td>\n",
       "      <td>1</td>\n",
       "    </tr>\n",
       "    <tr>\n",
       "      <th>4</th>\n",
       "      <td>0.0024</td>\n",
       "      <td>0.0024</td>\n",
       "      <td>0.0122</td>\n",
       "      <td>0.0024</td>\n",
       "      <td>0.0049</td>\n",
       "      <td>0.0024</td>\n",
       "      <td>0.0513</td>\n",
       "      <td>0.0977</td>\n",
       "      <td>0.0024</td>\n",
       "      <td>0.0220</td>\n",
       "      <td>1</td>\n",
       "    </tr>\n",
       "    <tr>\n",
       "      <th>...</th>\n",
       "      <td>...</td>\n",
       "      <td>...</td>\n",
       "      <td>...</td>\n",
       "      <td>...</td>\n",
       "      <td>...</td>\n",
       "      <td>...</td>\n",
       "      <td>...</td>\n",
       "      <td>...</td>\n",
       "      <td>...</td>\n",
       "      <td>...</td>\n",
       "      <td>...</td>\n",
       "    </tr>\n",
       "    <tr>\n",
       "      <th>23995</th>\n",
       "      <td>0.0024</td>\n",
       "      <td>0.2197</td>\n",
       "      <td>0.3613</td>\n",
       "      <td>0.0757</td>\n",
       "      <td>0.0244</td>\n",
       "      <td>0.0391</td>\n",
       "      <td>0.2344</td>\n",
       "      <td>1.3696</td>\n",
       "      <td>1.2085</td>\n",
       "      <td>0.5933</td>\n",
       "      <td>12</td>\n",
       "    </tr>\n",
       "    <tr>\n",
       "      <th>23996</th>\n",
       "      <td>0.0024</td>\n",
       "      <td>0.2124</td>\n",
       "      <td>0.3760</td>\n",
       "      <td>0.0757</td>\n",
       "      <td>0.0220</td>\n",
       "      <td>0.0464</td>\n",
       "      <td>0.2441</td>\n",
       "      <td>1.4038</td>\n",
       "      <td>1.2769</td>\n",
       "      <td>0.5640</td>\n",
       "      <td>12</td>\n",
       "    </tr>\n",
       "    <tr>\n",
       "      <th>23997</th>\n",
       "      <td>0.0024</td>\n",
       "      <td>0.2319</td>\n",
       "      <td>0.3735</td>\n",
       "      <td>0.0781</td>\n",
       "      <td>0.0244</td>\n",
       "      <td>0.0537</td>\n",
       "      <td>0.2808</td>\n",
       "      <td>1.5430</td>\n",
       "      <td>1.2622</td>\n",
       "      <td>0.5493</td>\n",
       "      <td>12</td>\n",
       "    </tr>\n",
       "    <tr>\n",
       "      <th>23998</th>\n",
       "      <td>0.0024</td>\n",
       "      <td>0.2368</td>\n",
       "      <td>0.3516</td>\n",
       "      <td>0.0781</td>\n",
       "      <td>0.0244</td>\n",
       "      <td>0.0610</td>\n",
       "      <td>0.2979</td>\n",
       "      <td>1.5430</td>\n",
       "      <td>1.2329</td>\n",
       "      <td>0.6372</td>\n",
       "      <td>12</td>\n",
       "    </tr>\n",
       "    <tr>\n",
       "      <th>23999</th>\n",
       "      <td>0.0024</td>\n",
       "      <td>0.2393</td>\n",
       "      <td>0.3223</td>\n",
       "      <td>0.0757</td>\n",
       "      <td>0.0220</td>\n",
       "      <td>0.0635</td>\n",
       "      <td>0.3125</td>\n",
       "      <td>1.6382</td>\n",
       "      <td>1.1548</td>\n",
       "      <td>0.6641</td>\n",
       "      <td>12</td>\n",
       "    </tr>\n",
       "  </tbody>\n",
       "</table>\n",
       "<p>24000 rows × 11 columns</p>\n",
       "</div>"
      ],
      "text/plain": [
       "            0       1       2       3       4       5       6       7       8  \\\n",
       "0      0.0024  0.0024  0.0146  0.0049  0.0024  0.0024  0.0439  0.0757  0.0073   \n",
       "1      0.0024  0.0024  0.0244  0.0073  0.0024  0.0024  0.0513  0.0879  0.0098   \n",
       "2      0.0024  0.0024  0.0244  0.0049  0.0049  0.0024  0.0488  0.1001  0.0098   \n",
       "3      0.0024  0.0024  0.0171  0.0024  0.0024  0.0024  0.0464  0.1025  0.0024   \n",
       "4      0.0024  0.0024  0.0122  0.0024  0.0049  0.0024  0.0513  0.0977  0.0024   \n",
       "...       ...     ...     ...     ...     ...     ...     ...     ...     ...   \n",
       "23995  0.0024  0.2197  0.3613  0.0757  0.0244  0.0391  0.2344  1.3696  1.2085   \n",
       "23996  0.0024  0.2124  0.3760  0.0757  0.0220  0.0464  0.2441  1.4038  1.2769   \n",
       "23997  0.0024  0.2319  0.3735  0.0781  0.0244  0.0537  0.2808  1.5430  1.2622   \n",
       "23998  0.0024  0.2368  0.3516  0.0781  0.0244  0.0610  0.2979  1.5430  1.2329   \n",
       "23999  0.0024  0.2393  0.3223  0.0757  0.0220  0.0635  0.3125  1.6382  1.1548   \n",
       "\n",
       "            9  target  \n",
       "0      0.0244       1  \n",
       "1      0.0269       1  \n",
       "2      0.0244       1  \n",
       "3      0.0220       1  \n",
       "4      0.0220       1  \n",
       "...       ...     ...  \n",
       "23995  0.5933      12  \n",
       "23996  0.5640      12  \n",
       "23997  0.5493      12  \n",
       "23998  0.6372      12  \n",
       "23999  0.6641      12  \n",
       "\n",
       "[24000 rows x 11 columns]"
      ]
     },
     "execution_count": 5,
     "metadata": {},
     "output_type": "execute_result"
    }
   ],
   "source": [
    "data = load_data_DB1(subject=10, exercise=1)\n",
    "ex1_moves = np.arange(1,13)\n",
    "data_df = pd.DataFrame()\n",
    "for m in ex1_moves:\n",
    "    move_df = get_movement_df(data=data, movement=m, target='restimulus')\n",
    "    data_df = data_df.append(move_df, ignore_index=True)\n",
    "    \n",
    "data_df"
   ]
  },
  {
   "cell_type": "code",
   "execution_count": 6,
   "id": "e948ff22",
   "metadata": {},
   "outputs": [],
   "source": [
    "import math\n",
    "X = np.zeros(shape=(120,200,10))\n",
    "y = np.zeros(shape=(120,1), dtype='int32')\n",
    "move_label = 1\n",
    "for i in np.arange(0,120):\n",
    "    start = i*200\n",
    "    end = start + 200\n",
    "    move = data_df.iloc[start:end,:-1]\n",
    "    X[i] = move\n",
    "    y[i] = math.floor(i/10) + 1"
   ]
  },
  {
   "cell_type": "code",
   "execution_count": 13,
   "id": "a20e2ed6",
   "metadata": {},
   "outputs": [
    {
     "data": {
      "text/plain": [
       "((120, 200, 10), (120, 1))"
      ]
     },
     "execution_count": 13,
     "metadata": {},
     "output_type": "execute_result"
    }
   ],
   "source": [
    "X.shape, y.shape"
   ]
  },
  {
   "cell_type": "code",
   "execution_count": 15,
   "id": "41d866f1",
   "metadata": {},
   "outputs": [
    {
     "data": {
      "text/plain": [
       "((96, 200, 10), (24, 200, 10), (96, 1), (24, 1))"
      ]
     },
     "execution_count": 15,
     "metadata": {},
     "output_type": "execute_result"
    }
   ],
   "source": [
    "X_train, X_test, y_train, y_test = train_test_split(X, y, test_size=0.2, stratify=y, random_state=42)\n",
    "X_train.shape, X_test.shape, y_train.shape, y_test.shape"
   ]
  },
  {
   "cell_type": "code",
   "execution_count": 19,
   "id": "9dca45d9",
   "metadata": {},
   "outputs": [],
   "source": [
    "X_train = X_train.reshape((96, 200,10,1))\n",
    "X_test = X_test.reshape((24,200,10,1))"
   ]
  },
  {
   "cell_type": "code",
   "execution_count": 16,
   "id": "4b02ad50",
   "metadata": {},
   "outputs": [
    {
     "ename": "ValueError",
     "evalue": "Found array with dim 3. MinMaxScaler expected <= 2.",
     "output_type": "error",
     "traceback": [
      "\u001b[1;31m---------------------------------------------------------------------------\u001b[0m",
      "\u001b[1;31mValueError\u001b[0m                                Traceback (most recent call last)",
      "\u001b[1;32m<ipython-input-16-89aa8a6d3969>\u001b[0m in \u001b[0;36m<module>\u001b[1;34m\u001b[0m\n\u001b[0;32m      2\u001b[0m \u001b[1;33m\u001b[0m\u001b[0m\n\u001b[0;32m      3\u001b[0m \u001b[0mscaler\u001b[0m \u001b[1;33m=\u001b[0m \u001b[0mMinMaxScaler\u001b[0m\u001b[1;33m(\u001b[0m\u001b[1;33m)\u001b[0m\u001b[1;33m\u001b[0m\u001b[1;33m\u001b[0m\u001b[0m\n\u001b[1;32m----> 4\u001b[1;33m \u001b[0mX_train_transformed\u001b[0m \u001b[1;33m=\u001b[0m \u001b[0mscaler\u001b[0m\u001b[1;33m.\u001b[0m\u001b[0mfit_transform\u001b[0m\u001b[1;33m(\u001b[0m\u001b[0mX_train\u001b[0m\u001b[1;33m)\u001b[0m\u001b[1;33m\u001b[0m\u001b[1;33m\u001b[0m\u001b[0m\n\u001b[0m\u001b[0;32m      5\u001b[0m \u001b[0mX_test_transformed\u001b[0m \u001b[1;33m=\u001b[0m \u001b[0mscaler\u001b[0m\u001b[1;33m.\u001b[0m\u001b[0mfit_transform\u001b[0m\u001b[1;33m(\u001b[0m\u001b[0mX_test\u001b[0m\u001b[1;33m)\u001b[0m\u001b[1;33m\u001b[0m\u001b[1;33m\u001b[0m\u001b[0m\n\u001b[0;32m      6\u001b[0m \u001b[0mX_train_transformed\u001b[0m \u001b[1;33m=\u001b[0m \u001b[0mX_train_transformed\u001b[0m\u001b[1;33m.\u001b[0m\u001b[0mreshape\u001b[0m\u001b[1;33m(\u001b[0m\u001b[1;33m(\u001b[0m\u001b[1;36m96\u001b[0m\u001b[1;33m,\u001b[0m \u001b[1;36m200\u001b[0m\u001b[1;33m,\u001b[0m\u001b[1;36m10\u001b[0m\u001b[1;33m,\u001b[0m\u001b[1;36m1\u001b[0m\u001b[1;33m)\u001b[0m\u001b[1;33m)\u001b[0m\u001b[1;33m\u001b[0m\u001b[1;33m\u001b[0m\u001b[0m\n",
      "\u001b[1;32m~\\anaconda3\\lib\\site-packages\\sklearn\\base.py\u001b[0m in \u001b[0;36mfit_transform\u001b[1;34m(self, X, y, **fit_params)\u001b[0m\n\u001b[0;32m    697\u001b[0m         \u001b[1;32mif\u001b[0m \u001b[0my\u001b[0m \u001b[1;32mis\u001b[0m \u001b[1;32mNone\u001b[0m\u001b[1;33m:\u001b[0m\u001b[1;33m\u001b[0m\u001b[1;33m\u001b[0m\u001b[0m\n\u001b[0;32m    698\u001b[0m             \u001b[1;31m# fit method of arity 1 (unsupervised transformation)\u001b[0m\u001b[1;33m\u001b[0m\u001b[1;33m\u001b[0m\u001b[1;33m\u001b[0m\u001b[0m\n\u001b[1;32m--> 699\u001b[1;33m             \u001b[1;32mreturn\u001b[0m \u001b[0mself\u001b[0m\u001b[1;33m.\u001b[0m\u001b[0mfit\u001b[0m\u001b[1;33m(\u001b[0m\u001b[0mX\u001b[0m\u001b[1;33m,\u001b[0m \u001b[1;33m**\u001b[0m\u001b[0mfit_params\u001b[0m\u001b[1;33m)\u001b[0m\u001b[1;33m.\u001b[0m\u001b[0mtransform\u001b[0m\u001b[1;33m(\u001b[0m\u001b[0mX\u001b[0m\u001b[1;33m)\u001b[0m\u001b[1;33m\u001b[0m\u001b[1;33m\u001b[0m\u001b[0m\n\u001b[0m\u001b[0;32m    700\u001b[0m         \u001b[1;32melse\u001b[0m\u001b[1;33m:\u001b[0m\u001b[1;33m\u001b[0m\u001b[1;33m\u001b[0m\u001b[0m\n\u001b[0;32m    701\u001b[0m             \u001b[1;31m# fit method of arity 2 (supervised transformation)\u001b[0m\u001b[1;33m\u001b[0m\u001b[1;33m\u001b[0m\u001b[1;33m\u001b[0m\u001b[0m\n",
      "\u001b[1;32m~\\anaconda3\\lib\\site-packages\\sklearn\\preprocessing\\_data.py\u001b[0m in \u001b[0;36mfit\u001b[1;34m(self, X, y)\u001b[0m\n\u001b[0;32m    361\u001b[0m         \u001b[1;31m# Reset internal state before fitting\u001b[0m\u001b[1;33m\u001b[0m\u001b[1;33m\u001b[0m\u001b[1;33m\u001b[0m\u001b[0m\n\u001b[0;32m    362\u001b[0m         \u001b[0mself\u001b[0m\u001b[1;33m.\u001b[0m\u001b[0m_reset\u001b[0m\u001b[1;33m(\u001b[0m\u001b[1;33m)\u001b[0m\u001b[1;33m\u001b[0m\u001b[1;33m\u001b[0m\u001b[0m\n\u001b[1;32m--> 363\u001b[1;33m         \u001b[1;32mreturn\u001b[0m \u001b[0mself\u001b[0m\u001b[1;33m.\u001b[0m\u001b[0mpartial_fit\u001b[0m\u001b[1;33m(\u001b[0m\u001b[0mX\u001b[0m\u001b[1;33m,\u001b[0m \u001b[0my\u001b[0m\u001b[1;33m)\u001b[0m\u001b[1;33m\u001b[0m\u001b[1;33m\u001b[0m\u001b[0m\n\u001b[0m\u001b[0;32m    364\u001b[0m \u001b[1;33m\u001b[0m\u001b[0m\n\u001b[0;32m    365\u001b[0m     \u001b[1;32mdef\u001b[0m \u001b[0mpartial_fit\u001b[0m\u001b[1;33m(\u001b[0m\u001b[0mself\u001b[0m\u001b[1;33m,\u001b[0m \u001b[0mX\u001b[0m\u001b[1;33m,\u001b[0m \u001b[0my\u001b[0m\u001b[1;33m=\u001b[0m\u001b[1;32mNone\u001b[0m\u001b[1;33m)\u001b[0m\u001b[1;33m:\u001b[0m\u001b[1;33m\u001b[0m\u001b[1;33m\u001b[0m\u001b[0m\n",
      "\u001b[1;32m~\\anaconda3\\lib\\site-packages\\sklearn\\preprocessing\\_data.py\u001b[0m in \u001b[0;36mpartial_fit\u001b[1;34m(self, X, y)\u001b[0m\n\u001b[0;32m    394\u001b[0m \u001b[1;33m\u001b[0m\u001b[0m\n\u001b[0;32m    395\u001b[0m         \u001b[0mfirst_pass\u001b[0m \u001b[1;33m=\u001b[0m \u001b[1;32mnot\u001b[0m \u001b[0mhasattr\u001b[0m\u001b[1;33m(\u001b[0m\u001b[0mself\u001b[0m\u001b[1;33m,\u001b[0m \u001b[1;34m'n_samples_seen_'\u001b[0m\u001b[1;33m)\u001b[0m\u001b[1;33m\u001b[0m\u001b[1;33m\u001b[0m\u001b[0m\n\u001b[1;32m--> 396\u001b[1;33m         X = self._validate_data(X, reset=first_pass,\n\u001b[0m\u001b[0;32m    397\u001b[0m                                 \u001b[0mestimator\u001b[0m\u001b[1;33m=\u001b[0m\u001b[0mself\u001b[0m\u001b[1;33m,\u001b[0m \u001b[0mdtype\u001b[0m\u001b[1;33m=\u001b[0m\u001b[0mFLOAT_DTYPES\u001b[0m\u001b[1;33m,\u001b[0m\u001b[1;33m\u001b[0m\u001b[1;33m\u001b[0m\u001b[0m\n\u001b[0;32m    398\u001b[0m                                 force_all_finite=\"allow-nan\")\n",
      "\u001b[1;32m~\\anaconda3\\lib\\site-packages\\sklearn\\base.py\u001b[0m in \u001b[0;36m_validate_data\u001b[1;34m(self, X, y, reset, validate_separately, **check_params)\u001b[0m\n\u001b[0;32m    419\u001b[0m             \u001b[0mout\u001b[0m \u001b[1;33m=\u001b[0m \u001b[0mX\u001b[0m\u001b[1;33m\u001b[0m\u001b[1;33m\u001b[0m\u001b[0m\n\u001b[0;32m    420\u001b[0m         \u001b[1;32melif\u001b[0m \u001b[0misinstance\u001b[0m\u001b[1;33m(\u001b[0m\u001b[0my\u001b[0m\u001b[1;33m,\u001b[0m \u001b[0mstr\u001b[0m\u001b[1;33m)\u001b[0m \u001b[1;32mand\u001b[0m \u001b[0my\u001b[0m \u001b[1;33m==\u001b[0m \u001b[1;34m'no_validation'\u001b[0m\u001b[1;33m:\u001b[0m\u001b[1;33m\u001b[0m\u001b[1;33m\u001b[0m\u001b[0m\n\u001b[1;32m--> 421\u001b[1;33m             \u001b[0mX\u001b[0m \u001b[1;33m=\u001b[0m \u001b[0mcheck_array\u001b[0m\u001b[1;33m(\u001b[0m\u001b[0mX\u001b[0m\u001b[1;33m,\u001b[0m \u001b[1;33m**\u001b[0m\u001b[0mcheck_params\u001b[0m\u001b[1;33m)\u001b[0m\u001b[1;33m\u001b[0m\u001b[1;33m\u001b[0m\u001b[0m\n\u001b[0m\u001b[0;32m    422\u001b[0m             \u001b[0mout\u001b[0m \u001b[1;33m=\u001b[0m \u001b[0mX\u001b[0m\u001b[1;33m\u001b[0m\u001b[1;33m\u001b[0m\u001b[0m\n\u001b[0;32m    423\u001b[0m         \u001b[1;32melse\u001b[0m\u001b[1;33m:\u001b[0m\u001b[1;33m\u001b[0m\u001b[1;33m\u001b[0m\u001b[0m\n",
      "\u001b[1;32m~\\anaconda3\\lib\\site-packages\\sklearn\\utils\\validation.py\u001b[0m in \u001b[0;36minner_f\u001b[1;34m(*args, **kwargs)\u001b[0m\n\u001b[0;32m     61\u001b[0m             \u001b[0mextra_args\u001b[0m \u001b[1;33m=\u001b[0m \u001b[0mlen\u001b[0m\u001b[1;33m(\u001b[0m\u001b[0margs\u001b[0m\u001b[1;33m)\u001b[0m \u001b[1;33m-\u001b[0m \u001b[0mlen\u001b[0m\u001b[1;33m(\u001b[0m\u001b[0mall_args\u001b[0m\u001b[1;33m)\u001b[0m\u001b[1;33m\u001b[0m\u001b[1;33m\u001b[0m\u001b[0m\n\u001b[0;32m     62\u001b[0m             \u001b[1;32mif\u001b[0m \u001b[0mextra_args\u001b[0m \u001b[1;33m<=\u001b[0m \u001b[1;36m0\u001b[0m\u001b[1;33m:\u001b[0m\u001b[1;33m\u001b[0m\u001b[1;33m\u001b[0m\u001b[0m\n\u001b[1;32m---> 63\u001b[1;33m                 \u001b[1;32mreturn\u001b[0m \u001b[0mf\u001b[0m\u001b[1;33m(\u001b[0m\u001b[1;33m*\u001b[0m\u001b[0margs\u001b[0m\u001b[1;33m,\u001b[0m \u001b[1;33m**\u001b[0m\u001b[0mkwargs\u001b[0m\u001b[1;33m)\u001b[0m\u001b[1;33m\u001b[0m\u001b[1;33m\u001b[0m\u001b[0m\n\u001b[0m\u001b[0;32m     64\u001b[0m \u001b[1;33m\u001b[0m\u001b[0m\n\u001b[0;32m     65\u001b[0m             \u001b[1;31m# extra_args > 0\u001b[0m\u001b[1;33m\u001b[0m\u001b[1;33m\u001b[0m\u001b[1;33m\u001b[0m\u001b[0m\n",
      "\u001b[1;32m~\\anaconda3\\lib\\site-packages\\sklearn\\utils\\validation.py\u001b[0m in \u001b[0;36mcheck_array\u001b[1;34m(array, accept_sparse, accept_large_sparse, dtype, order, copy, force_all_finite, ensure_2d, allow_nd, ensure_min_samples, ensure_min_features, estimator)\u001b[0m\n\u001b[0;32m    657\u001b[0m                     \"into decimal numbers with dtype='numeric'\") from e\n\u001b[0;32m    658\u001b[0m         \u001b[1;32mif\u001b[0m \u001b[1;32mnot\u001b[0m \u001b[0mallow_nd\u001b[0m \u001b[1;32mand\u001b[0m \u001b[0marray\u001b[0m\u001b[1;33m.\u001b[0m\u001b[0mndim\u001b[0m \u001b[1;33m>=\u001b[0m \u001b[1;36m3\u001b[0m\u001b[1;33m:\u001b[0m\u001b[1;33m\u001b[0m\u001b[1;33m\u001b[0m\u001b[0m\n\u001b[1;32m--> 659\u001b[1;33m             raise ValueError(\"Found array with dim %d. %s expected <= 2.\"\n\u001b[0m\u001b[0;32m    660\u001b[0m                              % (array.ndim, estimator_name))\n\u001b[0;32m    661\u001b[0m \u001b[1;33m\u001b[0m\u001b[0m\n",
      "\u001b[1;31mValueError\u001b[0m: Found array with dim 3. MinMaxScaler expected <= 2."
     ]
    }
   ],
   "source": [
    "# scaler = MinMaxScaler()\n",
    "# X_train_transformed = scaler.fit_transform(X_train)\n",
    "# X_test_transformed = scaler.fit_transform(X_test)\n",
    "X_train_transformed = X_train_transformed.reshape((96, 200,10,1))\n",
    "X_test_transformed = X_test_transformed.reshape((24,200,10,1))"
   ]
  },
  {
   "cell_type": "code",
   "execution_count": 40,
   "id": "e6760084",
   "metadata": {},
   "outputs": [],
   "source": [
    "from keras.utils import to_categorical\n",
    "\n",
    "y_train_transformed = to_categorical(y_train, dtype='int32')\n",
    "y_test_transformed = to_categorical(y_test, dtype='int32')"
   ]
  },
  {
   "cell_type": "code",
   "execution_count": 47,
   "id": "e8cd14f0",
   "metadata": {},
   "outputs": [],
   "source": [
    "y_train_transformed = np.delete(y_train_transformed, 0, axis=1)\n",
    "y_test_transformed = np.delete(y_test_transformed, 0, axis=1)"
   ]
  },
  {
   "cell_type": "markdown",
   "id": "445e2d9a",
   "metadata": {},
   "source": [
    "## Preparing the model"
   ]
  },
  {
   "cell_type": "code",
   "execution_count": 78,
   "id": "60ab19af",
   "metadata": {},
   "outputs": [],
   "source": [
    "from keras import layers, models\n",
    "\n",
    "model = models.Sequential()\n",
    "model.add(layer=layers.Conv2D(filters=32 , kernel_size=(3,3), activation='relu',padding='same', input_shape=(200,10,1)))\n",
    "model.add(layer=layers.Conv2D(filters=32, kernel_size=(3,3), activation='relu',padding='same'))\n",
    "model.add(layer=layers.MaxPooling2D(pool_size=(2,2)))\n",
    "model.add(layer=layers.Conv2D(filters=64, kernel_size=(3,3), activation='relu',padding='same'))\n",
    "model.add(layer=layers.Conv2D(filters=64, kernel_size=(3,3), activation='relu',padding='same'))\n",
    "model.add(layer=layers.MaxPooling2D(pool_size=(2,2)))\n",
    "model.add(layer=layers.Conv2D(filters=64, kernel_size=(3,3), activation='relu',padding='same'))\n",
    "model.add(layer=layers.Conv2D(filters=64, kernel_size=(3,3), activation='relu',padding='same'))\n",
    "\n",
    "model.add(layers.Flatten())\n",
    "model.add(layers.Dense(64, activation='relu'))\n",
    "model.add(layers.Dense(12, activation='softmax'))"
   ]
  },
  {
   "cell_type": "code",
   "execution_count": 79,
   "id": "0906513f",
   "metadata": {},
   "outputs": [
    {
     "name": "stdout",
     "output_type": "stream",
     "text": [
      "Model: \"sequential_4\"\n",
      "_________________________________________________________________\n",
      "Layer (type)                 Output Shape              Param #   \n",
      "=================================================================\n",
      "conv2d_15 (Conv2D)           (None, 200, 10, 32)       320       \n",
      "_________________________________________________________________\n",
      "conv2d_16 (Conv2D)           (None, 200, 10, 32)       9248      \n",
      "_________________________________________________________________\n",
      "max_pooling2d_8 (MaxPooling2 (None, 100, 5, 32)        0         \n",
      "_________________________________________________________________\n",
      "conv2d_17 (Conv2D)           (None, 100, 5, 64)        18496     \n",
      "_________________________________________________________________\n",
      "conv2d_18 (Conv2D)           (None, 100, 5, 64)        36928     \n",
      "_________________________________________________________________\n",
      "max_pooling2d_9 (MaxPooling2 (None, 50, 2, 64)         0         \n",
      "_________________________________________________________________\n",
      "conv2d_19 (Conv2D)           (None, 50, 2, 64)         36928     \n",
      "_________________________________________________________________\n",
      "conv2d_20 (Conv2D)           (None, 50, 2, 64)         36928     \n",
      "_________________________________________________________________\n",
      "flatten_3 (Flatten)          (None, 6400)              0         \n",
      "_________________________________________________________________\n",
      "dense_6 (Dense)              (None, 64)                409664    \n",
      "_________________________________________________________________\n",
      "dense_7 (Dense)              (None, 12)                780       \n",
      "=================================================================\n",
      "Total params: 549,292\n",
      "Trainable params: 549,292\n",
      "Non-trainable params: 0\n",
      "_________________________________________________________________\n"
     ]
    }
   ],
   "source": [
    "model.summary()"
   ]
  },
  {
   "cell_type": "code",
   "execution_count": 83,
   "id": "7dd797df",
   "metadata": {
    "scrolled": true
   },
   "outputs": [
    {
     "name": "stdout",
     "output_type": "stream",
     "text": [
      "Epoch 1/20\n",
      "3/3 [==============================] - 1s 173ms/step - loss: 1.0067 - accuracy: 0.8021\n",
      "Epoch 2/20\n",
      "3/3 [==============================] - 0s 149ms/step - loss: 1.2264 - accuracy: 0.6771\n",
      "Epoch 3/20\n",
      "3/3 [==============================] - 0s 143ms/step - loss: 0.5051 - accuracy: 0.8438\n",
      "Epoch 4/20\n",
      "3/3 [==============================] - 0s 138ms/step - loss: 0.4189 - accuracy: 0.8958\n",
      "Epoch 5/20\n",
      "3/3 [==============================] - 0s 142ms/step - loss: 0.4032 - accuracy: 0.9062\n",
      "Epoch 6/20\n",
      "3/3 [==============================] - 0s 139ms/step - loss: 0.3412 - accuracy: 0.9271\n",
      "Epoch 7/20\n",
      "3/3 [==============================] - 0s 132ms/step - loss: 0.2531 - accuracy: 0.9792\n",
      "Epoch 8/20\n",
      "3/3 [==============================] - 0s 140ms/step - loss: 0.1579 - accuracy: 1.0000\n",
      "Epoch 9/20\n",
      "3/3 [==============================] - 0s 133ms/step - loss: 0.0846 - accuracy: 0.9896\n",
      "Epoch 10/20\n",
      "3/3 [==============================] - 0s 138ms/step - loss: 0.0461 - accuracy: 1.0000\n",
      "Epoch 11/20\n",
      "3/3 [==============================] - 0s 140ms/step - loss: 0.0240 - accuracy: 1.0000\n",
      "Epoch 12/20\n",
      "3/3 [==============================] - 0s 133ms/step - loss: 0.0141 - accuracy: 1.0000\n",
      "Epoch 13/20\n",
      "3/3 [==============================] - 0s 135ms/step - loss: 0.0063 - accuracy: 1.0000\n",
      "Epoch 14/20\n",
      "3/3 [==============================] - 0s 132ms/step - loss: 0.0035 - accuracy: 1.0000\n",
      "Epoch 15/20\n",
      "3/3 [==============================] - 0s 137ms/step - loss: 0.0015 - accuracy: 1.0000\n",
      "Epoch 16/20\n",
      "3/3 [==============================] - 0s 137ms/step - loss: 8.3695e-04 - accuracy: 1.0000\n",
      "Epoch 17/20\n",
      "3/3 [==============================] - 0s 131ms/step - loss: 6.9194e-04 - accuracy: 1.0000\n",
      "Epoch 18/20\n",
      "3/3 [==============================] - 0s 135ms/step - loss: 5.0968e-04 - accuracy: 1.0000\n",
      "Epoch 19/20\n",
      "3/3 [==============================] - 0s 133ms/step - loss: 3.8810e-04 - accuracy: 1.0000\n",
      "Epoch 20/20\n",
      "3/3 [==============================] - 0s 141ms/step - loss: 2.5820e-04 - accuracy: 1.0000\n"
     ]
    },
    {
     "data": {
      "text/plain": [
       "<tensorflow.python.keras.callbacks.History at 0x196e6257c70>"
      ]
     },
     "execution_count": 83,
     "metadata": {},
     "output_type": "execute_result"
    }
   ],
   "source": [
    "model.compile(optimizer='adam',\n",
    "              loss='categorical_crossentropy',\n",
    "              metrics=['accuracy'])\n",
    "model.fit(X_train, y_train_transformed, epochs=20, batch_size=32)"
   ]
  },
  {
   "cell_type": "code",
   "execution_count": 84,
   "id": "58d5b87f",
   "metadata": {},
   "outputs": [
    {
     "name": "stdout",
     "output_type": "stream",
     "text": [
      "WARNING:tensorflow:6 out of the last 11 calls to <function Model.make_test_function.<locals>.test_function at 0x00000196E659BE50> triggered tf.function retracing. Tracing is expensive and the excessive number of tracings could be due to (1) creating @tf.function repeatedly in a loop, (2) passing tensors with different shapes, (3) passing Python objects instead of tensors. For (1), please define your @tf.function outside of the loop. For (2), @tf.function has experimental_relax_shapes=True option that relaxes argument shapes that can avoid unnecessary retracing. For (3), please refer to https://www.tensorflow.org/tutorials/customization/performance#python_or_tensor_args and https://www.tensorflow.org/api_docs/python/tf/function for  more details.\n",
      "1/1 [==============================] - 0s 5ms/step - loss: 0.1191 - accuracy: 0.9583\n"
     ]
    }
   ],
   "source": [
    "test_loss, test_acc = model.evaluate(X_test, y_test_transformed)"
   ]
  },
  {
   "cell_type": "code",
   "execution_count": null,
   "id": "ded066e9",
   "metadata": {},
   "outputs": [],
   "source": []
  }
 ],
 "metadata": {
  "kernelspec": {
   "display_name": "Python 3",
   "language": "python",
   "name": "python3"
  },
  "language_info": {
   "codemirror_mode": {
    "name": "ipython",
    "version": 3
   },
   "file_extension": ".py",
   "mimetype": "text/x-python",
   "name": "python",
   "nbconvert_exporter": "python",
   "pygments_lexer": "ipython3",
   "version": "3.8.8"
  }
 },
 "nbformat": 4,
 "nbformat_minor": 5
}
